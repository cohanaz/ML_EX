{
 "cells": [
  {
   "cell_type": "code",
   "execution_count": 314,
   "id": "3e084f97",
   "metadata": {
    "scrolled": false
   },
   "outputs": [],
   "source": [
    "import pandas as pd\n",
    "import numpy as np\n",
    "from numpy import mean\n",
    "from numpy import absolute\n",
    "import matplotlib.pyplot as plt\n",
    "from sklearn.model_selection import cross_val_score\n",
    "from sklearn.model_selection import KFold\n",
    "from sklearn.pipeline import Pipeline\n",
    "from sklearn.linear_model import HuberRegressor\n",
    "from sklearn.preprocessing import MinMaxScaler\n",
    "from sklearn.compose import TransformedTargetRegressor\n",
    "import seaborn as sns\n",
    "\n",
    "%matplotlib inline"
   ]
  },
  {
   "cell_type": "code",
   "execution_count": 448,
   "id": "4b212d07",
   "metadata": {},
   "outputs": [],
   "source": [
    "df=pd.read_csv(r'C:\\Users\\Cohan\\Documents\\שבתון צחי\\Train_rev1.csv')"
   ]
  },
  {
   "cell_type": "markdown",
   "id": "c6ded98d",
   "metadata": {},
   "source": [
    "# Data Exploration"
   ]
  },
  {
   "cell_type": "code",
   "execution_count": 3,
   "id": "07b86a58",
   "metadata": {
    "scrolled": true
   },
   "outputs": [
    {
     "data": {
      "text/html": [
       "<div>\n",
       "<style scoped>\n",
       "    .dataframe tbody tr th:only-of-type {\n",
       "        vertical-align: middle;\n",
       "    }\n",
       "\n",
       "    .dataframe tbody tr th {\n",
       "        vertical-align: top;\n",
       "    }\n",
       "\n",
       "    .dataframe thead th {\n",
       "        text-align: right;\n",
       "    }\n",
       "</style>\n",
       "<table border=\"1\" class=\"dataframe\">\n",
       "  <thead>\n",
       "    <tr style=\"text-align: right;\">\n",
       "      <th></th>\n",
       "      <th>Id</th>\n",
       "      <th>Title</th>\n",
       "      <th>FullDescription</th>\n",
       "      <th>LocationRaw</th>\n",
       "      <th>LocationNormalized</th>\n",
       "      <th>ContractType</th>\n",
       "      <th>ContractTime</th>\n",
       "      <th>Company</th>\n",
       "      <th>Category</th>\n",
       "      <th>SalaryRaw</th>\n",
       "      <th>SalaryNormalized</th>\n",
       "      <th>SourceName</th>\n",
       "    </tr>\n",
       "  </thead>\n",
       "  <tbody>\n",
       "    <tr>\n",
       "      <th>0</th>\n",
       "      <td>12612628</td>\n",
       "      <td>Engineering Systems Analyst</td>\n",
       "      <td>Engineering Systems Analyst Dorking Surrey Sal...</td>\n",
       "      <td>Dorking, Surrey, Surrey</td>\n",
       "      <td>Dorking</td>\n",
       "      <td>NaN</td>\n",
       "      <td>permanent</td>\n",
       "      <td>Gregory Martin International</td>\n",
       "      <td>Engineering Jobs</td>\n",
       "      <td>20000 - 30000/annum 20-30K</td>\n",
       "      <td>25000</td>\n",
       "      <td>cv-library.co.uk</td>\n",
       "    </tr>\n",
       "    <tr>\n",
       "      <th>1</th>\n",
       "      <td>12612830</td>\n",
       "      <td>Stress Engineer Glasgow</td>\n",
       "      <td>Stress Engineer Glasgow Salary **** to **** We...</td>\n",
       "      <td>Glasgow, Scotland, Scotland</td>\n",
       "      <td>Glasgow</td>\n",
       "      <td>NaN</td>\n",
       "      <td>permanent</td>\n",
       "      <td>Gregory Martin International</td>\n",
       "      <td>Engineering Jobs</td>\n",
       "      <td>25000 - 35000/annum 25-35K</td>\n",
       "      <td>30000</td>\n",
       "      <td>cv-library.co.uk</td>\n",
       "    </tr>\n",
       "    <tr>\n",
       "      <th>2</th>\n",
       "      <td>12612844</td>\n",
       "      <td>Modelling and simulation analyst</td>\n",
       "      <td>Mathematical Modeller / Simulation Analyst / O...</td>\n",
       "      <td>Hampshire, South East, South East</td>\n",
       "      <td>Hampshire</td>\n",
       "      <td>NaN</td>\n",
       "      <td>permanent</td>\n",
       "      <td>Gregory Martin International</td>\n",
       "      <td>Engineering Jobs</td>\n",
       "      <td>20000 - 40000/annum 20-40K</td>\n",
       "      <td>30000</td>\n",
       "      <td>cv-library.co.uk</td>\n",
       "    </tr>\n",
       "    <tr>\n",
       "      <th>3</th>\n",
       "      <td>12613049</td>\n",
       "      <td>Engineering Systems Analyst / Mathematical Mod...</td>\n",
       "      <td>Engineering Systems Analyst / Mathematical Mod...</td>\n",
       "      <td>Surrey, South East, South East</td>\n",
       "      <td>Surrey</td>\n",
       "      <td>NaN</td>\n",
       "      <td>permanent</td>\n",
       "      <td>Gregory Martin International</td>\n",
       "      <td>Engineering Jobs</td>\n",
       "      <td>25000 - 30000/annum 25K-30K negotiable</td>\n",
       "      <td>27500</td>\n",
       "      <td>cv-library.co.uk</td>\n",
       "    </tr>\n",
       "    <tr>\n",
       "      <th>4</th>\n",
       "      <td>12613647</td>\n",
       "      <td>Pioneer, Miser Engineering Systems Analyst</td>\n",
       "      <td>Pioneer, Miser  Engineering Systems Analyst Do...</td>\n",
       "      <td>Surrey, South East, South East</td>\n",
       "      <td>Surrey</td>\n",
       "      <td>NaN</td>\n",
       "      <td>permanent</td>\n",
       "      <td>Gregory Martin International</td>\n",
       "      <td>Engineering Jobs</td>\n",
       "      <td>20000 - 30000/annum 20-30K</td>\n",
       "      <td>25000</td>\n",
       "      <td>cv-library.co.uk</td>\n",
       "    </tr>\n",
       "  </tbody>\n",
       "</table>\n",
       "</div>"
      ],
      "text/plain": [
       "         Id                                              Title  \\\n",
       "0  12612628                        Engineering Systems Analyst   \n",
       "1  12612830                            Stress Engineer Glasgow   \n",
       "2  12612844                   Modelling and simulation analyst   \n",
       "3  12613049  Engineering Systems Analyst / Mathematical Mod...   \n",
       "4  12613647         Pioneer, Miser Engineering Systems Analyst   \n",
       "\n",
       "                                     FullDescription  \\\n",
       "0  Engineering Systems Analyst Dorking Surrey Sal...   \n",
       "1  Stress Engineer Glasgow Salary **** to **** We...   \n",
       "2  Mathematical Modeller / Simulation Analyst / O...   \n",
       "3  Engineering Systems Analyst / Mathematical Mod...   \n",
       "4  Pioneer, Miser  Engineering Systems Analyst Do...   \n",
       "\n",
       "                         LocationRaw LocationNormalized ContractType  \\\n",
       "0            Dorking, Surrey, Surrey            Dorking          NaN   \n",
       "1        Glasgow, Scotland, Scotland            Glasgow          NaN   \n",
       "2  Hampshire, South East, South East          Hampshire          NaN   \n",
       "3     Surrey, South East, South East             Surrey          NaN   \n",
       "4     Surrey, South East, South East             Surrey          NaN   \n",
       "\n",
       "  ContractTime                       Company          Category  \\\n",
       "0    permanent  Gregory Martin International  Engineering Jobs   \n",
       "1    permanent  Gregory Martin International  Engineering Jobs   \n",
       "2    permanent  Gregory Martin International  Engineering Jobs   \n",
       "3    permanent  Gregory Martin International  Engineering Jobs   \n",
       "4    permanent  Gregory Martin International  Engineering Jobs   \n",
       "\n",
       "                                SalaryRaw  SalaryNormalized        SourceName  \n",
       "0              20000 - 30000/annum 20-30K             25000  cv-library.co.uk  \n",
       "1              25000 - 35000/annum 25-35K             30000  cv-library.co.uk  \n",
       "2              20000 - 40000/annum 20-40K             30000  cv-library.co.uk  \n",
       "3  25000 - 30000/annum 25K-30K negotiable             27500  cv-library.co.uk  \n",
       "4              20000 - 30000/annum 20-30K             25000  cv-library.co.uk  "
      ]
     },
     "execution_count": 3,
     "metadata": {},
     "output_type": "execute_result"
    }
   ],
   "source": [
    "df.head()"
   ]
  },
  {
   "cell_type": "code",
   "execution_count": 4,
   "id": "98e8f94b",
   "metadata": {
    "scrolled": true
   },
   "outputs": [
    {
     "name": "stdout",
     "output_type": "stream",
     "text": [
      "<class 'pandas.core.frame.DataFrame'>\n",
      "RangeIndex: 244768 entries, 0 to 244767\n",
      "Data columns (total 12 columns):\n",
      " #   Column              Non-Null Count   Dtype \n",
      "---  ------              --------------   ----- \n",
      " 0   Id                  244768 non-null  int64 \n",
      " 1   Title               244767 non-null  object\n",
      " 2   FullDescription     244768 non-null  object\n",
      " 3   LocationRaw         244768 non-null  object\n",
      " 4   LocationNormalized  244768 non-null  object\n",
      " 5   ContractType        65442 non-null   object\n",
      " 6   ContractTime        180863 non-null  object\n",
      " 7   Company             212338 non-null  object\n",
      " 8   Category            244768 non-null  object\n",
      " 9   SalaryRaw           244768 non-null  object\n",
      " 10  SalaryNormalized    244768 non-null  int64 \n",
      " 11  SourceName          244767 non-null  object\n",
      "dtypes: int64(2), object(10)\n",
      "memory usage: 22.4+ MB\n"
     ]
    }
   ],
   "source": [
    "df.info()"
   ]
  },
  {
   "cell_type": "code",
   "execution_count": 5,
   "id": "953f719c",
   "metadata": {},
   "outputs": [],
   "source": [
    "#ContractTime"
   ]
  },
  {
   "cell_type": "code",
   "execution_count": 6,
   "id": "aaaae668",
   "metadata": {},
   "outputs": [
    {
     "data": {
      "text/plain": [
       "permanent    151521\n",
       "contract      29342\n",
       "Name: ContractTime, dtype: int64"
      ]
     },
     "execution_count": 6,
     "metadata": {},
     "output_type": "execute_result"
    }
   ],
   "source": [
    "df['ContractTime'].value_counts()"
   ]
  },
  {
   "cell_type": "code",
   "execution_count": null,
   "id": "76df2246",
   "metadata": {},
   "outputs": [],
   "source": [
    "#ContractTime"
   ]
  },
  {
   "cell_type": "code",
   "execution_count": 7,
   "id": "015c887e",
   "metadata": {},
   "outputs": [
    {
     "data": {
      "text/plain": [
       "full_time    57538\n",
       "part_time     7904\n",
       "Name: ContractType, dtype: int64"
      ]
     },
     "execution_count": 7,
     "metadata": {},
     "output_type": "execute_result"
    }
   ],
   "source": [
    "df['ContractType'].value_counts()"
   ]
  },
  {
   "cell_type": "code",
   "execution_count": 427,
   "id": "e50b7a44",
   "metadata": {},
   "outputs": [
    {
     "data": {
      "text/plain": [
       "<AxesSubplot:>"
      ]
     },
     "execution_count": 427,
     "metadata": {},
     "output_type": "execute_result"
    },
    {
     "data": {
      "image/png": "[encoded data removed]",
      "text/plain": [
       "<Figure size 1080x360 with 1 Axes>"
      ]
     },
     "metadata": {
      "needs_background": "light"
     },
     "output_type": "display_data"
    }
   ],
   "source": [
    "df['SalaryNormalized'].hist(bins=50,figsize=(15,5))"
   ]
  },
  {
   "cell_type": "code",
   "execution_count": 217,
   "id": "f64c586c",
   "metadata": {},
   "outputs": [
    {
     "data": {
      "text/plain": [
       "skew        1.415502\n",
       "kurtosis    3.071059\n",
       "Name: SalaryNormalized, dtype: float64"
      ]
     },
     "execution_count": 217,
     "metadata": {},
     "output_type": "execute_result"
    }
   ],
   "source": [
    "df['SalaryNormalized'].agg(['skew', 'kurtosis']).transpose()"
   ]
  },
  {
   "cell_type": "code",
   "execution_count": 8,
   "id": "0040cc9a",
   "metadata": {},
   "outputs": [
    {
     "data": {
      "text/plain": [
       "ContractType  ContractTime\n",
       "full_time     contract        AxesSubplot(0.125,0.125;0.775x0.755)\n",
       "              permanent       AxesSubplot(0.125,0.125;0.775x0.755)\n",
       "              NaN             AxesSubplot(0.125,0.125;0.775x0.755)\n",
       "part_time     contract        AxesSubplot(0.125,0.125;0.775x0.755)\n",
       "              permanent       AxesSubplot(0.125,0.125;0.775x0.755)\n",
       "              NaN             AxesSubplot(0.125,0.125;0.775x0.755)\n",
       "NaN           contract        AxesSubplot(0.125,0.125;0.775x0.755)\n",
       "              permanent       AxesSubplot(0.125,0.125;0.775x0.755)\n",
       "              NaN             AxesSubplot(0.125,0.125;0.775x0.755)\n",
       "Name: SalaryNormalized, dtype: object"
      ]
     },
     "execution_count": 8,
     "metadata": {},
     "output_type": "execute_result"
    },
    {
     "data": {
      "image/png": "[encoded data removed]",
      "text/plain": [
       "<Figure size 432x288 with 1 Axes>"
      ]
     },
     "metadata": {
      "needs_background": "light"
     },
     "output_type": "display_data"
    }
   ],
   "source": [
    "df.groupby(['ContractType','ContractTime'],dropna=False)['SalaryNormalized'].hist(bins=50)"
   ]
  },
  {
   "cell_type": "code",
   "execution_count": 9,
   "id": "476efa6d",
   "metadata": {},
   "outputs": [
    {
     "data": {
      "text/plain": [
       "ContractType  ContractTime\n",
       "full_time     contract        30720.0\n",
       "              permanent       32500.0\n",
       "              NaN             22000.0\n",
       "part_time     contract        20160.0\n",
       "              permanent       18453.0\n",
       "              NaN             14400.0\n",
       "NaN           contract        29760.0\n",
       "              permanent       32500.0\n",
       "              NaN             30000.0\n",
       "Name: SalaryNormalized, dtype: float64"
      ]
     },
     "execution_count": 9,
     "metadata": {},
     "output_type": "execute_result"
    }
   ],
   "source": [
    "df.groupby(['ContractType','ContractTime'],dropna=False)['SalaryNormalized'].median()"
   ]
  },
  {
   "cell_type": "code",
   "execution_count": 10,
   "id": "d6b76574",
   "metadata": {},
   "outputs": [],
   "source": [
    "#Company"
   ]
  },
  {
   "cell_type": "code",
   "execution_count": 11,
   "id": "4656caae",
   "metadata": {
    "scrolled": false
   },
   "outputs": [],
   "source": [
    "CompanyMeanSal=df.groupby('Company').SalaryNormalized.agg(['mean','count'])"
   ]
  },
  {
   "cell_type": "code",
   "execution_count": 12,
   "id": "1864efe2",
   "metadata": {},
   "outputs": [
    {
     "data": {
      "text/plain": [
       "<AxesSubplot:xlabel='count', ylabel='mean'>"
      ]
     },
     "execution_count": 12,
     "metadata": {},
     "output_type": "execute_result"
    },
    {
     "data": {
      "image/png": "[encoded data removed]",
      "text/plain": [
       "<Figure size 432x288 with 1 Axes>"
      ]
     },
     "metadata": {
      "needs_background": "light"
     },
     "output_type": "display_data"
    }
   ],
   "source": [
    "sns.scatterplot(x=CompanyMeanSal['count'], y=CompanyMeanSal['mean'])"
   ]
  },
  {
   "cell_type": "code",
   "execution_count": null,
   "id": "75ec593e",
   "metadata": {},
   "outputs": [],
   "source": [
    "#Category"
   ]
  },
  {
   "cell_type": "code",
   "execution_count": 13,
   "id": "83e7295e",
   "metadata": {
    "scrolled": false
   },
   "outputs": [],
   "source": [
    "CategoryMeanSal=df.groupby('Category').SalaryNormalized.agg(['mean','count'])"
   ]
  },
  {
   "cell_type": "code",
   "execution_count": 14,
   "id": "d8f33b30",
   "metadata": {},
   "outputs": [
    {
     "data": {
      "text/plain": [
       "<AxesSubplot:xlabel='count', ylabel='mean'>"
      ]
     },
     "execution_count": 14,
     "metadata": {},
     "output_type": "execute_result"
    },
    {
     "data": {
      "image/png": "[encoded data removed]",
      "text/plain": [
       "<Figure size 432x288 with 1 Axes>"
      ]
     },
     "metadata": {
      "needs_background": "light"
     },
     "output_type": "display_data"
    }
   ],
   "source": [
    "sns.scatterplot(x=CategoryMeanSal['count'], y=CategoryMeanSal['mean'])"
   ]
  },
  {
   "cell_type": "code",
   "execution_count": 15,
   "id": "4987c874",
   "metadata": {},
   "outputs": [],
   "source": [
    "sns.set(rc={'figure.figsize':(25,10)})"
   ]
  },
  {
   "cell_type": "code",
   "execution_count": 16,
   "id": "942a8de1",
   "metadata": {},
   "outputs": [
    {
     "data": {
      "text/plain": [
       "<AxesSubplot:xlabel='Category', ylabel='SalaryNormalized'>"
      ]
     },
     "execution_count": 16,
     "metadata": {},
     "output_type": "execute_result"
    },
    {
     "data": {
      "image/png": "[encoded data removed]",
      "text/plain": [
       "<Figure size 1800x720 with 1 Axes>"
      ]
     },
     "metadata": {},
     "output_type": "display_data"
    }
   ],
   "source": [
    "sns.boxplot(x='Category',y='SalaryNormalized',data=df,palette='rainbow')"
   ]
  },
  {
   "cell_type": "code",
   "execution_count": null,
   "id": "b20f9ee0",
   "metadata": {},
   "outputs": [],
   "source": [
    "#Location"
   ]
  },
  {
   "cell_type": "code",
   "execution_count": 17,
   "id": "cb087022",
   "metadata": {
    "scrolled": true
   },
   "outputs": [],
   "source": [
    "LocationMeanSal=df.groupby('LocationNormalized').SalaryNormalized.agg(['mean','count'])"
   ]
  },
  {
   "cell_type": "code",
   "execution_count": 18,
   "id": "44b5a8ad",
   "metadata": {
    "scrolled": true
   },
   "outputs": [
    {
     "data": {
      "text/plain": [
       "<AxesSubplot:xlabel='count', ylabel='mean'>"
      ]
     },
     "execution_count": 18,
     "metadata": {},
     "output_type": "execute_result"
    },
    {
     "data": {
      "image/png": "[encoded data removed]",
      "text/plain": [
       "<Figure size 1800x720 with 1 Axes>"
      ]
     },
     "metadata": {},
     "output_type": "display_data"
    }
   ],
   "source": [
    "sns.scatterplot(x=LocationMeanSal['count'], y=LocationMeanSal['mean'])"
   ]
  },
  {
   "cell_type": "markdown",
   "id": "c7a9d99c",
   "metadata": {},
   "source": [
    "# Preprocessing"
   ]
  },
  {
   "cell_type": "code",
   "execution_count": null,
   "id": "2c75401f",
   "metadata": {},
   "outputs": [],
   "source": [
    "#dropping irrelevant data, "
   ]
  },
  {
   "cell_type": "code",
   "execution_count": 449,
   "id": "598a6df0",
   "metadata": {
    "scrolled": true
   },
   "outputs": [
    {
     "data": {
      "text/html": [
       "<div>\n",
       "<style scoped>\n",
       "    .dataframe tbody tr th:only-of-type {\n",
       "        vertical-align: middle;\n",
       "    }\n",
       "\n",
       "    .dataframe tbody tr th {\n",
       "        vertical-align: top;\n",
       "    }\n",
       "\n",
       "    .dataframe thead th {\n",
       "        text-align: right;\n",
       "    }\n",
       "</style>\n",
       "<table border=\"1\" class=\"dataframe\">\n",
       "  <thead>\n",
       "    <tr style=\"text-align: right;\">\n",
       "      <th></th>\n",
       "      <th>Title</th>\n",
       "      <th>ContractType</th>\n",
       "      <th>ContractTime</th>\n",
       "      <th>Category</th>\n",
       "    </tr>\n",
       "  </thead>\n",
       "  <tbody>\n",
       "    <tr>\n",
       "      <th>0</th>\n",
       "      <td>Engineering Systems Analyst</td>\n",
       "      <td>NaN</td>\n",
       "      <td>permanent</td>\n",
       "      <td>Engineering Jobs</td>\n",
       "    </tr>\n",
       "    <tr>\n",
       "      <th>1</th>\n",
       "      <td>Stress Engineer Glasgow</td>\n",
       "      <td>NaN</td>\n",
       "      <td>permanent</td>\n",
       "      <td>Engineering Jobs</td>\n",
       "    </tr>\n",
       "    <tr>\n",
       "      <th>2</th>\n",
       "      <td>Modelling and simulation analyst</td>\n",
       "      <td>NaN</td>\n",
       "      <td>permanent</td>\n",
       "      <td>Engineering Jobs</td>\n",
       "    </tr>\n",
       "    <tr>\n",
       "      <th>3</th>\n",
       "      <td>Engineering Systems Analyst / Mathematical Mod...</td>\n",
       "      <td>NaN</td>\n",
       "      <td>permanent</td>\n",
       "      <td>Engineering Jobs</td>\n",
       "    </tr>\n",
       "    <tr>\n",
       "      <th>4</th>\n",
       "      <td>Pioneer, Miser Engineering Systems Analyst</td>\n",
       "      <td>NaN</td>\n",
       "      <td>permanent</td>\n",
       "      <td>Engineering Jobs</td>\n",
       "    </tr>\n",
       "  </tbody>\n",
       "</table>\n",
       "</div>"
      ],
      "text/plain": [
       "                                               Title ContractType  \\\n",
       "0                        Engineering Systems Analyst          NaN   \n",
       "1                            Stress Engineer Glasgow          NaN   \n",
       "2                   Modelling and simulation analyst          NaN   \n",
       "3  Engineering Systems Analyst / Mathematical Mod...          NaN   \n",
       "4         Pioneer, Miser Engineering Systems Analyst          NaN   \n",
       "\n",
       "  ContractTime          Category  \n",
       "0    permanent  Engineering Jobs  \n",
       "1    permanent  Engineering Jobs  \n",
       "2    permanent  Engineering Jobs  \n",
       "3    permanent  Engineering Jobs  \n",
       "4    permanent  Engineering Jobs  "
      ]
     },
     "execution_count": 449,
     "metadata": {},
     "output_type": "execute_result"
    }
   ],
   "source": [
    "#full_df=df[(df.Title.isnull()!=True)]\n",
    "full_df=df[(df.Title.isnull()!=True) & (df.SalaryNormalized<=30000) & (df.SalaryNormalized>=25000)]\n",
    "X=full_df.drop(['Id','FullDescription','LocationRaw','LocationNormalized','Company','SalaryRaw','SalaryNormalized','SourceName'],axis=1)\n",
    "y=full_df['SalaryNormalized']\n",
    "X.head()"
   ]
  },
  {
   "cell_type": "code",
   "execution_count": 450,
   "id": "b89f5f20",
   "metadata": {},
   "outputs": [
    {
     "name": "stdout",
     "output_type": "stream",
     "text": [
      "<class 'pandas.core.frame.DataFrame'>\n",
      "Int64Index: 42050 entries, 0 to 244754\n",
      "Data columns (total 4 columns):\n",
      " #   Column        Non-Null Count  Dtype \n",
      "---  ------        --------------  ----- \n",
      " 0   Title         42050 non-null  object\n",
      " 1   ContractType  10967 non-null  object\n",
      " 2   ContractTime  32326 non-null  object\n",
      " 3   Category      42050 non-null  object\n",
      "dtypes: object(4)\n",
      "memory usage: 1.6+ MB\n"
     ]
    }
   ],
   "source": [
    "X.info()"
   ]
  },
  {
   "cell_type": "code",
   "execution_count": 22,
   "id": "dbf9bea5",
   "metadata": {},
   "outputs": [],
   "source": [
    "#Completing ContractType and ContractTime from FullDescription"
   ]
  },
  {
   "cell_type": "code",
   "execution_count": 23,
   "id": "6f5dc728",
   "metadata": {
    "scrolled": true
   },
   "outputs": [],
   "source": [
    "#desc=df[df[\"ContractType\"].isnull()].FullDescription\n",
    "#desc_part=([\"parttime\" in word.lower().split() for word in df.FullDescription])\n",
    "#desc_full=pd.DataFrame([\"fulltime\" in word.lower().split() for word in df.FullDescription])"
   ]
  },
  {
   "cell_type": "code",
   "execution_count": null,
   "id": "97b02770",
   "metadata": {},
   "outputs": [],
   "source": [
    "#Spliting tha data"
   ]
  },
  {
   "cell_type": "code",
   "execution_count": 479,
   "id": "edfa74ce",
   "metadata": {},
   "outputs": [],
   "source": [
    "from sklearn.model_selection import train_test_split\n",
    "X_train, X_valid, y_train, y_valid = train_test_split(X, y, train_size=0.8, test_size=0.2)"
   ]
  },
  {
   "cell_type": "code",
   "execution_count": 25,
   "id": "ef40d95e",
   "metadata": {},
   "outputs": [],
   "source": [
    "#Scaling the Salary vector (from right skewed to normally distributed)"
   ]
  },
  {
   "cell_type": "code",
   "execution_count": 480,
   "id": "40837104",
   "metadata": {},
   "outputs": [],
   "source": [
    "y_train_df=pd.DataFrame(y_train)\n",
    "y_valid_df=pd.DataFrame(y_valid)"
   ]
  },
  {
   "cell_type": "code",
   "execution_count": 481,
   "id": "6ca342ef",
   "metadata": {},
   "outputs": [
    {
     "data": {
      "text/plain": [
       "array([[<AxesSubplot:title={'center':'SalaryNormalized'}>]], dtype=object)"
      ]
     },
     "execution_count": 481,
     "metadata": {},
     "output_type": "execute_result"
    },
    {
     "data": {
      "image/png": "[encoded data removed]",
      "text/plain": [
       "<Figure size 432x288 with 1 Axes>"
      ]
     },
     "metadata": {
      "needs_background": "light"
     },
     "output_type": "display_data"
    }
   ],
   "source": [
    "y_train_df.hist()"
   ]
  },
  {
   "cell_type": "code",
   "execution_count": null,
   "id": "7dc0032e",
   "metadata": {},
   "outputs": [],
   "source": [
    "#Quantile transform"
   ]
  },
  {
   "cell_type": "code",
   "execution_count": 482,
   "id": "f28dd501",
   "metadata": {},
   "outputs": [],
   "source": [
    "from sklearn.preprocessing import QuantileTransformer\n",
    "qt = QuantileTransformer(n_quantiles=1000, random_state=0)\n",
    "y_train_qt=qt.fit_transform(y_train_df)"
   ]
  },
  {
   "cell_type": "code",
   "execution_count": 483,
   "id": "abc027bd",
   "metadata": {},
   "outputs": [
    {
     "data": {
      "text/plain": [
       "array([[<AxesSubplot:title={'center':'0'}>]], dtype=object)"
      ]
     },
     "execution_count": 483,
     "metadata": {},
     "output_type": "execute_result"
    },
    {
     "data": {
      "image/png": "[encoded data removed]",
      "text/plain": [
       "<Figure size 432x288 with 1 Axes>"
      ]
     },
     "metadata": {
      "needs_background": "light"
     },
     "output_type": "display_data"
    }
   ],
   "source": [
    "me=pd.DataFrame(y_train_qt)\n",
    "me.hist(bins=10)"
   ]
  },
  {
   "cell_type": "code",
   "execution_count": null,
   "id": "833956a9",
   "metadata": {},
   "outputs": [],
   "source": [
    "#OneHot encoding to categorial cols"
   ]
  },
  {
   "cell_type": "code",
   "execution_count": 188,
   "id": "b05dc1c5",
   "metadata": {},
   "outputs": [],
   "source": [
    "from sklearn.preprocessing import OneHotEncoder"
   ]
  },
  {
   "cell_type": "code",
   "execution_count": 484,
   "id": "d73c8ee3",
   "metadata": {},
   "outputs": [],
   "source": [
    "#OH_cols=['ContractType','ContractTime','Category']\n",
    "OH_cols=['ContractTime','Category']\n",
    "OH_encoder = OneHotEncoder(handle_unknown='ignore', sparse=False)\n",
    "OH_cols_train = pd.DataFrame(OH_encoder.fit_transform(X_train[OH_cols]))\n",
    "OH_cols_valid = pd.DataFrame(OH_encoder.transform(X_valid[OH_cols]))"
   ]
  },
  {
   "cell_type": "code",
   "execution_count": null,
   "id": "0873305d",
   "metadata": {},
   "outputs": [],
   "source": [
    "#Target encoding"
   ]
  },
  {
   "cell_type": "code",
   "execution_count": 485,
   "id": "d7816e3e",
   "metadata": {},
   "outputs": [],
   "source": [
    "from category_encoders.target_encoder import TargetEncoder"
   ]
  },
  {
   "cell_type": "code",
   "execution_count": 486,
   "id": "cd44690c",
   "metadata": {},
   "outputs": [
    {
     "name": "stderr",
     "output_type": "stream",
     "text": [
      "C:\\Users\\Cohan\\anaconda3\\lib\\site-packages\\category_encoders\\target_encoder.py:92: FutureWarning: Default parameter min_samples_leaf will change in version 2.6.See https://github.com/scikit-learn-contrib/category_encoders/issues/327\n",
      "  warnings.warn(\"Default parameter min_samples_leaf will change in version 2.6.\"\n",
      "C:\\Users\\Cohan\\anaconda3\\lib\\site-packages\\category_encoders\\target_encoder.py:97: FutureWarning: Default parameter smoothing will change in version 2.6.See https://github.com/scikit-learn-contrib/category_encoders/issues/327\n",
      "  warnings.warn(\"Default parameter smoothing will change in version 2.6.\"\n"
     ]
    },
    {
     "data": {
      "text/html": [
       "<div>\n",
       "<style scoped>\n",
       "    .dataframe tbody tr th:only-of-type {\n",
       "        vertical-align: middle;\n",
       "    }\n",
       "\n",
       "    .dataframe tbody tr th {\n",
       "        vertical-align: top;\n",
       "    }\n",
       "\n",
       "    .dataframe thead th {\n",
       "        text-align: right;\n",
       "    }\n",
       "</style>\n",
       "<table border=\"1\" class=\"dataframe\">\n",
       "  <thead>\n",
       "    <tr style=\"text-align: right;\">\n",
       "      <th></th>\n",
       "      <th>ContractType</th>\n",
       "      <th>ContractTime</th>\n",
       "      <th>Category</th>\n",
       "    </tr>\n",
       "  </thead>\n",
       "  <tbody>\n",
       "    <tr>\n",
       "      <th>73102</th>\n",
       "      <td>27576.407430</td>\n",
       "      <td>27595.274948</td>\n",
       "      <td>27715.616120</td>\n",
       "    </tr>\n",
       "    <tr>\n",
       "      <th>164233</th>\n",
       "      <td>27576.407430</td>\n",
       "      <td>27595.274948</td>\n",
       "      <td>27563.744143</td>\n",
       "    </tr>\n",
       "    <tr>\n",
       "      <th>183278</th>\n",
       "      <td>27576.407430</td>\n",
       "      <td>27595.274948</td>\n",
       "      <td>27647.402999</td>\n",
       "    </tr>\n",
       "    <tr>\n",
       "      <th>14280</th>\n",
       "      <td>27576.407430</td>\n",
       "      <td>27595.274948</td>\n",
       "      <td>27519.480412</td>\n",
       "    </tr>\n",
       "    <tr>\n",
       "      <th>180050</th>\n",
       "      <td>27581.345145</td>\n",
       "      <td>27733.565826</td>\n",
       "      <td>27766.723490</td>\n",
       "    </tr>\n",
       "  </tbody>\n",
       "</table>\n",
       "</div>"
      ],
      "text/plain": [
       "        ContractType  ContractTime      Category\n",
       "73102   27576.407430  27595.274948  27715.616120\n",
       "164233  27576.407430  27595.274948  27563.744143\n",
       "183278  27576.407430  27595.274948  27647.402999\n",
       "14280   27576.407430  27595.274948  27519.480412\n",
       "180050  27581.345145  27733.565826  27766.723490"
      ]
     },
     "execution_count": 486,
     "metadata": {},
     "output_type": "execute_result"
    }
   ],
   "source": [
    "Trgt_cols=['ContractType','ContractTime','Category']\n",
    "TE_encoder = TargetEncoder()\n",
    "Trgt_cols_train = TE_encoder.fit_transform(X_train[Trgt_cols], y_train)\n",
    "Trgt_cols_valid = TE_encoder.transform(X_valid[Trgt_cols])\n",
    "\n",
    "Trgt_cols_train.head()"
   ]
  },
  {
   "cell_type": "code",
   "execution_count": 148,
   "id": "40dbafff",
   "metadata": {},
   "outputs": [],
   "source": [
    "#FullDescription preprocessing"
   ]
  },
  {
   "cell_type": "code",
   "execution_count": 457,
   "id": "c8dc274e",
   "metadata": {},
   "outputs": [],
   "source": [
    "import string\n",
    "import nltk\n",
    "#nltk.download() #Download the necessary datasets\n",
    "from nltk.corpus import stopwords\n",
    "from nltk.stem import PorterStemmer\n",
    "from nltk.tokenize import word_tokenize\n",
    "   \n",
    "ps = PorterStemmer()"
   ]
  },
  {
   "cell_type": "code",
   "execution_count": 32,
   "id": "f0e39999",
   "metadata": {},
   "outputs": [],
   "source": [
    "#TFIDF"
   ]
  },
  {
   "cell_type": "code",
   "execution_count": 458,
   "id": "2a3bcbcc",
   "metadata": {},
   "outputs": [],
   "source": [
    "from sklearn.feature_extraction.text import CountVectorizer"
   ]
  },
  {
   "cell_type": "code",
   "execution_count": 487,
   "id": "ead4737a",
   "metadata": {},
   "outputs": [],
   "source": [
    "def get_ngrams(text, ngram_from=2, ngram_to=2, n=None, max_features=20000):\n",
    "    \n",
    "    vec = CountVectorizer(ngram_range = (ngram_from, ngram_to), \n",
    "                          max_features = max_features, \n",
    "                          stop_words='english').fit(text)\n",
    "    bag_of_words = vec.transform(text)\n",
    "    sum_words = bag_of_words.sum(axis = 0) \n",
    "    words_freq = [(word, sum_words[0, i]) for word, i in vec.vocabulary_.items()]\n",
    "    words_freq = sorted(words_freq, key = lambda x: x[1], reverse = True)\n",
    "   \n",
    "    return words_freq[:n]"
   ]
  },
  {
   "cell_type": "code",
   "execution_count": 488,
   "id": "6e79a7d9",
   "metadata": {},
   "outputs": [
    {
     "data": {
      "text/html": [
       "<div>\n",
       "<style scoped>\n",
       "    .dataframe tbody tr th:only-of-type {\n",
       "        vertical-align: middle;\n",
       "    }\n",
       "\n",
       "    .dataframe tbody tr th {\n",
       "        vertical-align: top;\n",
       "    }\n",
       "\n",
       "    .dataframe thead th {\n",
       "        text-align: right;\n",
       "    }\n",
       "</style>\n",
       "<table border=\"1\" class=\"dataframe\">\n",
       "  <thead>\n",
       "    <tr style=\"text-align: right;\">\n",
       "      <th></th>\n",
       "      <th>Bigram</th>\n",
       "      <th>Frequency</th>\n",
       "    </tr>\n",
       "  </thead>\n",
       "  <tbody>\n",
       "    <tr>\n",
       "      <th>0</th>\n",
       "      <td>sales executive</td>\n",
       "      <td>1132</td>\n",
       "    </tr>\n",
       "    <tr>\n",
       "      <th>1</th>\n",
       "      <td>account manager</td>\n",
       "      <td>796</td>\n",
       "    </tr>\n",
       "    <tr>\n",
       "      <th>2</th>\n",
       "      <td>recruitment consultant</td>\n",
       "      <td>694</td>\n",
       "    </tr>\n",
       "    <tr>\n",
       "      <th>3</th>\n",
       "      <td>staff nurse</td>\n",
       "      <td>573</td>\n",
       "    </tr>\n",
       "    <tr>\n",
       "      <th>4</th>\n",
       "      <td>business development</td>\n",
       "      <td>572</td>\n",
       "    </tr>\n",
       "  </tbody>\n",
       "</table>\n",
       "</div>"
      ],
      "text/plain": [
       "                   Bigram  Frequency\n",
       "0         sales executive       1132\n",
       "1         account manager        796\n",
       "2  recruitment consultant        694\n",
       "3             staff nurse        573\n",
       "4    business development        572"
      ]
     },
     "execution_count": 488,
     "metadata": {},
     "output_type": "execute_result"
    }
   ],
   "source": [
    "bigrams = get_ngrams(X_train['Title'], ngram_from=2, ngram_to=2, n=15)\n",
    "bigrams_df = pd.DataFrame(bigrams)\n",
    "bigrams_df.columns=[\"Bigram\", \"Frequency\"]\n",
    "bigrams_df.head()"
   ]
  },
  {
   "cell_type": "code",
   "execution_count": 489,
   "id": "b57fe7b1",
   "metadata": {},
   "outputs": [
    {
     "name": "stdout",
     "output_type": "stream",
     "text": [
      "36306\n"
     ]
    }
   ],
   "source": [
    "bow_transformer = CountVectorizer(ngram_range=(1,2),stop_words='english').fit(X_train['Title'])\n",
    "\n",
    "# Print total number of vocab words\n",
    "print(len(bow_transformer.vocabulary_))"
   ]
  },
  {
   "cell_type": "code",
   "execution_count": 490,
   "id": "1507372b",
   "metadata": {},
   "outputs": [],
   "source": [
    "Titles_bow = bow_transformer.transform(X_train['Title'])"
   ]
  },
  {
   "cell_type": "code",
   "execution_count": 491,
   "id": "33f80c20",
   "metadata": {},
   "outputs": [
    {
     "name": "stdout",
     "output_type": "stream",
     "text": [
      "Shape of Sparse Matrix:  (33640, 36306)\n",
      "Amount of Non-Zero occurences:  220142\n"
     ]
    }
   ],
   "source": [
    "print('Shape of Sparse Matrix: ', Titles_bow.shape)\n",
    "print('Amount of Non-Zero occurences: ', Titles_bow.nnz)"
   ]
  },
  {
   "cell_type": "code",
   "execution_count": 492,
   "id": "acd0e9cc",
   "metadata": {},
   "outputs": [],
   "source": [
    "from sklearn.feature_extraction.text import TfidfTransformer\n",
    "tfidf_transformer = TfidfTransformer().fit(Titles_bow)"
   ]
  },
  {
   "cell_type": "code",
   "execution_count": 493,
   "id": "d75657e3",
   "metadata": {},
   "outputs": [
    {
     "name": "stdout",
     "output_type": "stream",
     "text": [
      "(33640, 36306)\n"
     ]
    }
   ],
   "source": [
    "Titles_train_tfidf = tfidf_transformer.transform(Titles_bow)\n",
    "print(Titles_train_tfidf.shape)"
   ]
  },
  {
   "cell_type": "code",
   "execution_count": 494,
   "id": "ee90f7f6",
   "metadata": {},
   "outputs": [],
   "source": [
    "#processing the validation data the same way"
   ]
  },
  {
   "cell_type": "code",
   "execution_count": 495,
   "id": "1fe0d680",
   "metadata": {},
   "outputs": [
    {
     "name": "stdout",
     "output_type": "stream",
     "text": [
      "(8410, 36306)\n"
     ]
    }
   ],
   "source": [
    "valid_bow_transformer = CountVectorizer(ngram_range=(1,2),stop_words='english').fit(X_valid['Title'])\n",
    "Titles_valid_bow = bow_transformer.transform(X_valid['Title'])\n",
    "Titles_valid_tfidf = tfidf_transformer.transform(Titles_valid_bow)\n",
    "print(Titles_valid_tfidf.shape)"
   ]
  },
  {
   "cell_type": "code",
   "execution_count": 44,
   "id": "d1e4e18b",
   "metadata": {},
   "outputs": [],
   "source": [
    "#Joining all the processed Data"
   ]
  },
  {
   "cell_type": "code",
   "execution_count": 496,
   "id": "bc9b1b15",
   "metadata": {},
   "outputs": [
    {
     "name": "stdout",
     "output_type": "stream",
     "text": [
      "(33640, 32)\n",
      "(8410, 32)\n"
     ]
    }
   ],
   "source": [
    "print(OH_cols_train.shape)\n",
    "print(OH_cols_valid.shape)"
   ]
  },
  {
   "cell_type": "code",
   "execution_count": 497,
   "id": "61839253",
   "metadata": {},
   "outputs": [],
   "source": [
    "from scipy import sparse\n",
    "\n",
    "Train_OH_data = sparse.hstack((Titles_train_tfidf,OH_cols_train))\n",
    "Valid_OH_data = sparse.hstack((Titles_valid_tfidf,OH_cols_valid))"
   ]
  },
  {
   "cell_type": "code",
   "execution_count": 498,
   "id": "3fb146ab",
   "metadata": {},
   "outputs": [
    {
     "name": "stdout",
     "output_type": "stream",
     "text": [
      "(33640, 36338)\n",
      "(8410, 36338)\n"
     ]
    }
   ],
   "source": [
    "print(Train_OH_data.shape)\n",
    "print(Valid_OH_data.shape)"
   ]
  },
  {
   "cell_type": "code",
   "execution_count": 418,
   "id": "e18b9cdd",
   "metadata": {},
   "outputs": [
    {
     "ename": "ValueError",
     "evalue": "blocks[0,:] has incompatible row dimensions. Got blocks[0,1].shape[0] == 2447, expected 30710.",
     "output_type": "error",
     "traceback": [
      "\u001b[1;31m---------------------------------------------------------------------------\u001b[0m",
      "\u001b[1;31mValueError\u001b[0m                                Traceback (most recent call last)",
      "\u001b[1;32m~\\AppData\\Local\\Temp/ipykernel_708/1945574789.py\u001b[0m in \u001b[0;36m<module>\u001b[1;34m\u001b[0m\n\u001b[0;32m      1\u001b[0m \u001b[1;32mfrom\u001b[0m \u001b[0mscipy\u001b[0m \u001b[1;32mimport\u001b[0m \u001b[0msparse\u001b[0m\u001b[1;33m\u001b[0m\u001b[1;33m\u001b[0m\u001b[0m\n\u001b[0;32m      2\u001b[0m \u001b[1;33m\u001b[0m\u001b[0m\n\u001b[1;32m----> 3\u001b[1;33m \u001b[0mTrain_Trgt_data\u001b[0m \u001b[1;33m=\u001b[0m \u001b[0msparse\u001b[0m\u001b[1;33m.\u001b[0m\u001b[0mhstack\u001b[0m\u001b[1;33m(\u001b[0m\u001b[1;33m(\u001b[0m\u001b[0mTitles_train_tfidf\u001b[0m\u001b[1;33m,\u001b[0m\u001b[0mTrgt_cols_train\u001b[0m\u001b[1;33m)\u001b[0m\u001b[1;33m)\u001b[0m\u001b[1;33m\u001b[0m\u001b[1;33m\u001b[0m\u001b[0m\n\u001b[0m\u001b[0;32m      4\u001b[0m \u001b[0mValid_Trgt_data\u001b[0m \u001b[1;33m=\u001b[0m \u001b[0msparse\u001b[0m\u001b[1;33m.\u001b[0m\u001b[0mhstack\u001b[0m\u001b[1;33m(\u001b[0m\u001b[1;33m(\u001b[0m\u001b[0mTitles_valid_tfidf\u001b[0m\u001b[1;33m,\u001b[0m\u001b[0mTrgt_cols_valid\u001b[0m\u001b[1;33m)\u001b[0m\u001b[1;33m)\u001b[0m\u001b[1;33m\u001b[0m\u001b[1;33m\u001b[0m\u001b[0m\n",
      "\u001b[1;32m~\\anaconda3\\lib\\site-packages\\scipy\\sparse\\construct.py\u001b[0m in \u001b[0;36mhstack\u001b[1;34m(blocks, format, dtype)\u001b[0m\n\u001b[0;32m    465\u001b[0m \u001b[1;33m\u001b[0m\u001b[0m\n\u001b[0;32m    466\u001b[0m     \"\"\"\n\u001b[1;32m--> 467\u001b[1;33m     \u001b[1;32mreturn\u001b[0m \u001b[0mbmat\u001b[0m\u001b[1;33m(\u001b[0m\u001b[1;33m[\u001b[0m\u001b[0mblocks\u001b[0m\u001b[1;33m]\u001b[0m\u001b[1;33m,\u001b[0m \u001b[0mformat\u001b[0m\u001b[1;33m=\u001b[0m\u001b[0mformat\u001b[0m\u001b[1;33m,\u001b[0m \u001b[0mdtype\u001b[0m\u001b[1;33m=\u001b[0m\u001b[0mdtype\u001b[0m\u001b[1;33m)\u001b[0m\u001b[1;33m\u001b[0m\u001b[1;33m\u001b[0m\u001b[0m\n\u001b[0m\u001b[0;32m    468\u001b[0m \u001b[1;33m\u001b[0m\u001b[0m\n\u001b[0;32m    469\u001b[0m \u001b[1;33m\u001b[0m\u001b[0m\n",
      "\u001b[1;32m~\\anaconda3\\lib\\site-packages\\scipy\\sparse\\construct.py\u001b[0m in \u001b[0;36mbmat\u001b[1;34m(blocks, format, dtype)\u001b[0m\n\u001b[0;32m    586\u001b[0m                                                     \u001b[0mexp\u001b[0m\u001b[1;33m=\u001b[0m\u001b[0mbrow_lengths\u001b[0m\u001b[1;33m[\u001b[0m\u001b[0mi\u001b[0m\u001b[1;33m]\u001b[0m\u001b[1;33m,\u001b[0m\u001b[1;33m\u001b[0m\u001b[1;33m\u001b[0m\u001b[0m\n\u001b[0;32m    587\u001b[0m                                                     got=A.shape[0]))\n\u001b[1;32m--> 588\u001b[1;33m                     \u001b[1;32mraise\u001b[0m \u001b[0mValueError\u001b[0m\u001b[1;33m(\u001b[0m\u001b[0mmsg\u001b[0m\u001b[1;33m)\u001b[0m\u001b[1;33m\u001b[0m\u001b[1;33m\u001b[0m\u001b[0m\n\u001b[0m\u001b[0;32m    589\u001b[0m \u001b[1;33m\u001b[0m\u001b[0m\n\u001b[0;32m    590\u001b[0m                 \u001b[1;32mif\u001b[0m \u001b[0mbcol_lengths\u001b[0m\u001b[1;33m[\u001b[0m\u001b[0mj\u001b[0m\u001b[1;33m]\u001b[0m \u001b[1;33m==\u001b[0m \u001b[1;36m0\u001b[0m\u001b[1;33m:\u001b[0m\u001b[1;33m\u001b[0m\u001b[1;33m\u001b[0m\u001b[0m\n",
      "\u001b[1;31mValueError\u001b[0m: blocks[0,:] has incompatible row dimensions. Got blocks[0,1].shape[0] == 2447, expected 30710."
     ]
    }
   ],
   "source": [
    "from scipy import sparse\n",
    "\n",
    "Train_Trgt_data = sparse.hstack((Titles_train_tfidf,Trgt_cols_train))\n",
    "Valid_Trgt_data = sparse.hstack((Titles_valid_tfidf,Trgt_cols_valid))"
   ]
  },
  {
   "cell_type": "markdown",
   "id": "831a758d",
   "metadata": {},
   "source": [
    "# Modeling"
   ]
  },
  {
   "cell_type": "code",
   "execution_count": 268,
   "id": "588ff5ec",
   "metadata": {},
   "outputs": [],
   "source": [
    "from xgboost import XGBRegressor"
   ]
  },
  {
   "cell_type": "code",
   "execution_count": 500,
   "id": "dbe20407",
   "metadata": {},
   "outputs": [
    {
     "name": "stderr",
     "output_type": "stream",
     "text": [
      "C:\\Users\\Cohan\\anaconda3\\lib\\site-packages\\xgboost\\sklearn.py:793: UserWarning: `early_stopping_rounds` in `fit` method is deprecated for better compatibility with scikit-learn, use `early_stopping_rounds` in constructor or`set_params` instead.\n",
      "  warnings.warn(\n"
     ]
    },
    {
     "data": {
      "text/plain": [
       "XGBRegressor(base_score=0.5, booster='gbtree', callbacks=None,\n",
       "             colsample_bylevel=1, colsample_bynode=1, colsample_bytree=1,\n",
       "             early_stopping_rounds=None, enable_categorical=False,\n",
       "             eval_metric=None, gamma=0, gpu_id=-1, grow_policy='depthwise',\n",
       "             importance_type=None, interaction_constraints='',\n",
       "             learning_rate=0.1, max_bin=256, max_cat_to_onehot=4,\n",
       "             max_delta_step=0, max_depth=6, max_leaves=0, min_child_weight=1,\n",
       "             missing=nan, monotone_constraints='()', n_estimators=1000,\n",
       "             n_jobs=4, num_parallel_tree=1, predictor='auto', random_state=0,\n",
       "             reg_alpha=0, reg_lambda=1, ...)"
      ]
     },
     "execution_count": 500,
     "metadata": {},
     "output_type": "execute_result"
    }
   ],
   "source": [
    "my_model = XGBRegressor(n_estimators=1000,learning_rate=0.1,n_jobs=4)\n",
    "my_model.fit(Train_OH_data, y_train,\n",
    "             early_stopping_rounds=5, \n",
    "             eval_set=[(Valid_OH_data, y_valid)], \n",
    "             verbose=False)"
   ]
  },
  {
   "cell_type": "code",
   "execution_count": 513,
   "id": "967327d3",
   "metadata": {},
   "outputs": [
    {
     "name": "stdout",
     "output_type": "stream",
     "text": [
      "Mean Absolute Error: 1648.6070063407947\n",
      "Mean Absolute Error: 1758.2206917651858\n"
     ]
    }
   ],
   "source": [
    "from sklearn.metrics import mean_squared_error\n",
    "\n",
    "predictions = my_model.predict(Valid_OH_data)\n",
    "dummy_pred=[27500 for Sal in y_valid]\n",
    "print(\"Mean Absolute Error: \" + str((mean_squared_error(predictions, y_valid))**0.5))\n",
    "print(\"Mean Absolute Error: \" + str((mean_squared_error(dummy_pred, y_valid))**0.5))"
   ]
  },
  {
   "cell_type": "code",
   "execution_count": 510,
   "id": "255235ec",
   "metadata": {},
   "outputs": [
    {
     "data": {
      "text/plain": [
       "array([27813.31 , 27704.752, 26809.443, 27454.719, 27344.885, 27104.738,\n",
       "       28166.398, 27479.666, 27464.764], dtype=float32)"
      ]
     },
     "execution_count": 510,
     "metadata": {},
     "output_type": "execute_result"
    }
   ],
   "source": [
    "predictions[0:9]"
   ]
  },
  {
   "cell_type": "code",
   "execution_count": 509,
   "id": "1f19bdcc",
   "metadata": {},
   "outputs": [
    {
     "data": {
      "text/plain": [
       "90120     27500\n",
       "94565     30000\n",
       "1011      28500\n",
       "54806     25000\n",
       "159388    30000\n",
       "109416    25000\n",
       "11048     30000\n",
       "173195    27500\n",
       "223952    25920\n",
       "172792    25000\n",
       "Name: SalaryNormalized, dtype: int64"
      ]
     },
     "execution_count": 509,
     "metadata": {},
     "output_type": "execute_result"
    }
   ],
   "source": [
    "y_valid.head(10)"
   ]
  },
  {
   "cell_type": "code",
   "execution_count": 502,
   "id": "cb5f57f0",
   "metadata": {},
   "outputs": [
    {
     "name": "stdout",
     "output_type": "stream",
     "text": [
      "Mean MAE: 1445.791\n"
     ]
    }
   ],
   "source": [
    "cv = KFold(n_splits=10, shuffle=True, random_state=1)\n",
    "scores = cross_val_score(my_model, Valid_OH_data, y_valid, scoring='neg_mean_absolute_error', cv=cv, n_jobs=-1)\n",
    "## convert scores to positive\n",
    "scores = absolute(scores)\n",
    "# summarize the result\n",
    "s_mean = mean(scores)\n",
    "print('Mean MAE: %.3f' % (s_mean))"
   ]
  },
  {
   "cell_type": "code",
   "execution_count": 472,
   "id": "8b257e52",
   "metadata": {},
   "outputs": [
    {
     "name": "stdout",
     "output_type": "stream",
     "text": [
      "Mean Absolute Error: 0.2616650200479926\n",
      "Mean Absolute Error: 1388.6535214875773\n"
     ]
    }
   ],
   "source": [
    "from sklearn.metrics import mean_squared_error\n",
    "\n",
    "predictions = my_model.predict(Titles_train_tfidf)\n",
    "# invert transform on predictions\n",
    "predictions_df=pd.DataFrame(predictions)\n",
    "predictions_invrt = qt.inverse_transform(predictions_df)\n",
    "print(\"Mean Absolute Error: \" + str((mean_squared_error(predictions, y_train_qt))**0.5))\n",
    "print(\"Mean Absolute Error: \" + str((mean_squared_error(predictions_invrt, y_train))**0.5))"
   ]
  },
  {
   "cell_type": "code",
   "execution_count": 311,
   "id": "16e280e7",
   "metadata": {},
   "outputs": [],
   "source": [
    "#Building a pipline\n",
    "from sklearn.pipeline import Pipeline\n",
    "\n",
    "# prepare the model with input scaling\n",
    "pipeline = Pipeline(steps=[('normalize', MinMaxScaler()), ('model', my_model)])\n"
   ]
  },
  {
   "cell_type": "code",
   "execution_count": 315,
   "id": "ef9b30f5",
   "metadata": {},
   "outputs": [
    {
     "name": "stdout",
     "output_type": "stream",
     "text": [
      "Mean MAE: nan\n"
     ]
    }
   ],
   "source": [
    "# prepare the model with target scaling\n",
    "model = TransformedTargetRegressor(regressor=pipeline, transformer=MinMaxScaler())\n",
    "# evaluate model\n",
    "cv = KFold(n_splits=10, shuffle=True, random_state=1)\n",
    "scores = cross_val_score(model, Train_OH_data, y_train, scoring='neg_mean_absolute_error', cv=cv, n_jobs=-1)\n",
    "# convert scores to positive\n",
    "scores = absolute(scores)\n",
    "# summarize the result\n",
    "s_mean = mean(scores)\n",
    "print('Mean MAE: %.3f' % (s_mean))"
   ]
  }
 ],
 "metadata": {
  "kernelspec": {
   "display_name": "Python 3 (ipykernel)",
   "language": "python",
   "name": "python3"
  },
  "language_info": {
   "codemirror_mode": {
    "name": "ipython",
    "version": 3
   },
   "file_extension": ".py",
   "mimetype": "text/x-python",
   "name": "python",
   "nbconvert_exporter": "python",
   "pygments_lexer": "ipython3",
   "version": "3.9.7"
  }
 },
 "nbformat": 4,
 "nbformat_minor": 5
}
