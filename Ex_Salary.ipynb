{
 "cells": [
  {
   "cell_type": "code",
   "execution_count": 1,
   "id": "3e084f97",
   "metadata": {
    "scrolled": false
   },
   "outputs": [],
   "source": [
    "import pandas as pd\n",
    "import matplotlib.pyplot as plt\n",
    "import seaborn as sns\n",
    "\n",
    "%matplotlib inline"
   ]
  },
  {
   "cell_type": "code",
   "execution_count": 2,
   "id": "4b212d07",
   "metadata": {},
   "outputs": [],
   "source": [
    "df=pd.read_csv(r'C:\\Users\\Cohan\\Documents\\שבתון צחי\\Train_rev1.csv')"
   ]
  },
  {
   "cell_type": "markdown",
   "id": "c6ded98d",
   "metadata": {},
   "source": [
    "# Data Exploration"
   ]
  },
  {
   "cell_type": "code",
   "execution_count": 143,
   "id": "07b86a58",
   "metadata": {
    "scrolled": true
   },
   "outputs": [
    {
     "data": {
      "text/html": [
       "<div>\n",
       "<style scoped>\n",
       "    .dataframe tbody tr th:only-of-type {\n",
       "        vertical-align: middle;\n",
       "    }\n",
       "\n",
       "    .dataframe tbody tr th {\n",
       "        vertical-align: top;\n",
       "    }\n",
       "\n",
       "    .dataframe thead th {\n",
       "        text-align: right;\n",
       "    }\n",
       "</style>\n",
       "<table border=\"1\" class=\"dataframe\">\n",
       "  <thead>\n",
       "    <tr style=\"text-align: right;\">\n",
       "      <th></th>\n",
       "      <th>Id</th>\n",
       "      <th>Title</th>\n",
       "      <th>FullDescription</th>\n",
       "      <th>LocationRaw</th>\n",
       "      <th>LocationNormalized</th>\n",
       "      <th>ContractType</th>\n",
       "      <th>ContractTime</th>\n",
       "      <th>Company</th>\n",
       "      <th>Category</th>\n",
       "      <th>SalaryRaw</th>\n",
       "      <th>SalaryNormalized</th>\n",
       "      <th>SourceName</th>\n",
       "    </tr>\n",
       "  </thead>\n",
       "  <tbody>\n",
       "    <tr>\n",
       "      <th>0</th>\n",
       "      <td>12612628</td>\n",
       "      <td>Engineering Systems Analyst</td>\n",
       "      <td>Engineering Systems Analyst Dorking Surrey Sal...</td>\n",
       "      <td>Dorking, Surrey, Surrey</td>\n",
       "      <td>Dorking</td>\n",
       "      <td>NaN</td>\n",
       "      <td>permanent</td>\n",
       "      <td>Gregory Martin International</td>\n",
       "      <td>Engineering Jobs</td>\n",
       "      <td>20000 - 30000/annum 20-30K</td>\n",
       "      <td>25000</td>\n",
       "      <td>cv-library.co.uk</td>\n",
       "    </tr>\n",
       "    <tr>\n",
       "      <th>1</th>\n",
       "      <td>12612830</td>\n",
       "      <td>Stress Engineer Glasgow</td>\n",
       "      <td>Stress Engineer Glasgow Salary **** to **** We...</td>\n",
       "      <td>Glasgow, Scotland, Scotland</td>\n",
       "      <td>Glasgow</td>\n",
       "      <td>NaN</td>\n",
       "      <td>permanent</td>\n",
       "      <td>Gregory Martin International</td>\n",
       "      <td>Engineering Jobs</td>\n",
       "      <td>25000 - 35000/annum 25-35K</td>\n",
       "      <td>30000</td>\n",
       "      <td>cv-library.co.uk</td>\n",
       "    </tr>\n",
       "    <tr>\n",
       "      <th>2</th>\n",
       "      <td>12612844</td>\n",
       "      <td>Modelling and simulation analyst</td>\n",
       "      <td>Mathematical Modeller / Simulation Analyst / O...</td>\n",
       "      <td>Hampshire, South East, South East</td>\n",
       "      <td>Hampshire</td>\n",
       "      <td>NaN</td>\n",
       "      <td>permanent</td>\n",
       "      <td>Gregory Martin International</td>\n",
       "      <td>Engineering Jobs</td>\n",
       "      <td>20000 - 40000/annum 20-40K</td>\n",
       "      <td>30000</td>\n",
       "      <td>cv-library.co.uk</td>\n",
       "    </tr>\n",
       "    <tr>\n",
       "      <th>3</th>\n",
       "      <td>12613049</td>\n",
       "      <td>Engineering Systems Analyst / Mathematical Mod...</td>\n",
       "      <td>Engineering Systems Analyst / Mathematical Mod...</td>\n",
       "      <td>Surrey, South East, South East</td>\n",
       "      <td>Surrey</td>\n",
       "      <td>NaN</td>\n",
       "      <td>permanent</td>\n",
       "      <td>Gregory Martin International</td>\n",
       "      <td>Engineering Jobs</td>\n",
       "      <td>25000 - 30000/annum 25K-30K negotiable</td>\n",
       "      <td>27500</td>\n",
       "      <td>cv-library.co.uk</td>\n",
       "    </tr>\n",
       "    <tr>\n",
       "      <th>4</th>\n",
       "      <td>12613647</td>\n",
       "      <td>Pioneer, Miser Engineering Systems Analyst</td>\n",
       "      <td>Pioneer, Miser  Engineering Systems Analyst Do...</td>\n",
       "      <td>Surrey, South East, South East</td>\n",
       "      <td>Surrey</td>\n",
       "      <td>NaN</td>\n",
       "      <td>permanent</td>\n",
       "      <td>Gregory Martin International</td>\n",
       "      <td>Engineering Jobs</td>\n",
       "      <td>20000 - 30000/annum 20-30K</td>\n",
       "      <td>25000</td>\n",
       "      <td>cv-library.co.uk</td>\n",
       "    </tr>\n",
       "  </tbody>\n",
       "</table>\n",
       "</div>"
      ],
      "text/plain": [
       "         Id                                              Title  \\\n",
       "0  12612628                        Engineering Systems Analyst   \n",
       "1  12612830                            Stress Engineer Glasgow   \n",
       "2  12612844                   Modelling and simulation analyst   \n",
       "3  12613049  Engineering Systems Analyst / Mathematical Mod...   \n",
       "4  12613647         Pioneer, Miser Engineering Systems Analyst   \n",
       "\n",
       "                                     FullDescription  \\\n",
       "0  Engineering Systems Analyst Dorking Surrey Sal...   \n",
       "1  Stress Engineer Glasgow Salary **** to **** We...   \n",
       "2  Mathematical Modeller / Simulation Analyst / O...   \n",
       "3  Engineering Systems Analyst / Mathematical Mod...   \n",
       "4  Pioneer, Miser  Engineering Systems Analyst Do...   \n",
       "\n",
       "                         LocationRaw LocationNormalized ContractType  \\\n",
       "0            Dorking, Surrey, Surrey            Dorking          NaN   \n",
       "1        Glasgow, Scotland, Scotland            Glasgow          NaN   \n",
       "2  Hampshire, South East, South East          Hampshire          NaN   \n",
       "3     Surrey, South East, South East             Surrey          NaN   \n",
       "4     Surrey, South East, South East             Surrey          NaN   \n",
       "\n",
       "  ContractTime                       Company          Category  \\\n",
       "0    permanent  Gregory Martin International  Engineering Jobs   \n",
       "1    permanent  Gregory Martin International  Engineering Jobs   \n",
       "2    permanent  Gregory Martin International  Engineering Jobs   \n",
       "3    permanent  Gregory Martin International  Engineering Jobs   \n",
       "4    permanent  Gregory Martin International  Engineering Jobs   \n",
       "\n",
       "                                SalaryRaw  SalaryNormalized        SourceName  \n",
       "0              20000 - 30000/annum 20-30K             25000  cv-library.co.uk  \n",
       "1              25000 - 35000/annum 25-35K             30000  cv-library.co.uk  \n",
       "2              20000 - 40000/annum 20-40K             30000  cv-library.co.uk  \n",
       "3  25000 - 30000/annum 25K-30K negotiable             27500  cv-library.co.uk  \n",
       "4              20000 - 30000/annum 20-30K             25000  cv-library.co.uk  "
      ]
     },
     "execution_count": 143,
     "metadata": {},
     "output_type": "execute_result"
    }
   ],
   "source": [
    "df.head()"
   ]
  },
  {
   "cell_type": "code",
   "execution_count": 147,
   "id": "98e8f94b",
   "metadata": {
    "scrolled": true
   },
   "outputs": [
    {
     "name": "stdout",
     "output_type": "stream",
     "text": [
      "<class 'pandas.core.frame.DataFrame'>\n",
      "RangeIndex: 244768 entries, 0 to 244767\n",
      "Data columns (total 11 columns):\n",
      " #   Column              Non-Null Count   Dtype \n",
      "---  ------              --------------   ----- \n",
      " 0   Title               244767 non-null  object\n",
      " 1   FullDescription     244768 non-null  object\n",
      " 2   LocationRaw         244768 non-null  object\n",
      " 3   LocationNormalized  244768 non-null  object\n",
      " 4   ContractType        65442 non-null   object\n",
      " 5   ContractTime        180863 non-null  object\n",
      " 6   Company             212338 non-null  object\n",
      " 7   Category            244768 non-null  object\n",
      " 8   SalaryRaw           244768 non-null  object\n",
      " 9   SalaryNormalized    244768 non-null  int64 \n",
      " 10  SourceName          244767 non-null  object\n",
      "dtypes: int64(1), object(10)\n",
      "memory usage: 20.5+ MB\n"
     ]
    }
   ],
   "source": [
    "df.info()"
   ]
  },
  {
   "cell_type": "code",
   "execution_count": null,
   "id": "953f719c",
   "metadata": {},
   "outputs": [],
   "source": [
    "#ContractTime"
   ]
  },
  {
   "cell_type": "code",
   "execution_count": 269,
   "id": "aaaae668",
   "metadata": {},
   "outputs": [
    {
     "data": {
      "text/plain": [
       "permanent    151521\n",
       "contract      29342\n",
       "Name: ContractTime, dtype: int64"
      ]
     },
     "execution_count": 269,
     "metadata": {},
     "output_type": "execute_result"
    }
   ],
   "source": [
    "df['ContractTime'].value_counts()"
   ]
  },
  {
   "cell_type": "code",
   "execution_count": null,
   "id": "76df2246",
   "metadata": {},
   "outputs": [],
   "source": [
    "#ContractTime"
   ]
  },
  {
   "cell_type": "code",
   "execution_count": 96,
   "id": "015c887e",
   "metadata": {},
   "outputs": [
    {
     "data": {
      "text/plain": [
       "full_time    57538\n",
       "part_time     7904\n",
       "Name: ContractType, dtype: int64"
      ]
     },
     "execution_count": 96,
     "metadata": {},
     "output_type": "execute_result"
    }
   ],
   "source": [
    "df['ContractType'].value_counts()"
   ]
  },
  {
   "cell_type": "code",
   "execution_count": 229,
   "id": "0040cc9a",
   "metadata": {},
   "outputs": [
    {
     "data": {
      "text/plain": [
       "ContractType  ContractTime\n",
       "full_time     contract        AxesSubplot(0.125,0.125;0.775x0.755)\n",
       "              permanent       AxesSubplot(0.125,0.125;0.775x0.755)\n",
       "              NaN             AxesSubplot(0.125,0.125;0.775x0.755)\n",
       "part_time     contract        AxesSubplot(0.125,0.125;0.775x0.755)\n",
       "              permanent       AxesSubplot(0.125,0.125;0.775x0.755)\n",
       "              NaN             AxesSubplot(0.125,0.125;0.775x0.755)\n",
       "NaN           contract        AxesSubplot(0.125,0.125;0.775x0.755)\n",
       "              permanent       AxesSubplot(0.125,0.125;0.775x0.755)\n",
       "              NaN             AxesSubplot(0.125,0.125;0.775x0.755)\n",
       "Name: SalaryNormalized, dtype: object"
      ]
     },
     "execution_count": 229,
     "metadata": {},
     "output_type": "execute_result"
    },
    {
     "data": {
      "image/png": "[encoded data removed]",
      "text/plain": [
       "<Figure size 1800x720 with 1 Axes>"
      ]
     },
     "metadata": {},
     "output_type": "display_data"
    }
   ],
   "source": [
    "df.groupby(['ContractType','ContractTime'],dropna=False)['SalaryNormalized'].hist(bins=50)"
   ]
  },
  {
   "cell_type": "code",
   "execution_count": 230,
   "id": "476efa6d",
   "metadata": {},
   "outputs": [
    {
     "data": {
      "text/plain": [
       "ContractType  ContractTime\n",
       "full_time     contract        30720.0\n",
       "              permanent       32500.0\n",
       "              NaN             22000.0\n",
       "part_time     contract        20160.0\n",
       "              permanent       18453.0\n",
       "              NaN             14400.0\n",
       "NaN           contract        29760.0\n",
       "              permanent       32500.0\n",
       "              NaN             30000.0\n",
       "Name: SalaryNormalized, dtype: float64"
      ]
     },
     "execution_count": 230,
     "metadata": {},
     "output_type": "execute_result"
    }
   ],
   "source": [
    "df.groupby(['ContractType','ContractTime'],dropna=False)['SalaryNormalized'].median()"
   ]
  },
  {
   "cell_type": "code",
   "execution_count": null,
   "id": "d6b76574",
   "metadata": {},
   "outputs": [],
   "source": [
    "#Company"
   ]
  },
  {
   "cell_type": "code",
   "execution_count": 7,
   "id": "4656caae",
   "metadata": {
    "scrolled": false
   },
   "outputs": [],
   "source": [
    "CompanyMeanSal=df.groupby('Company').SalaryNormalized.agg(['mean','count'])"
   ]
  },
  {
   "cell_type": "code",
   "execution_count": 8,
   "id": "1864efe2",
   "metadata": {},
   "outputs": [
    {
     "data": {
      "text/plain": [
       "<AxesSubplot:xlabel='count', ylabel='mean'>"
      ]
     },
     "execution_count": 8,
     "metadata": {},
     "output_type": "execute_result"
    },
    {
     "data": {
      "image/png": "[encoded data removed]",
      "text/plain": [
       "<Figure size 432x288 with 1 Axes>"
      ]
     },
     "metadata": {
      "needs_background": "light"
     },
     "output_type": "display_data"
    }
   ],
   "source": [
    "sns.scatterplot(x=CompanyMeanSal['count'], y=CompanyMeanSal['mean'])"
   ]
  },
  {
   "cell_type": "code",
   "execution_count": null,
   "id": "75ec593e",
   "metadata": {},
   "outputs": [],
   "source": [
    "#Category"
   ]
  },
  {
   "cell_type": "code",
   "execution_count": 12,
   "id": "83e7295e",
   "metadata": {
    "scrolled": false
   },
   "outputs": [],
   "source": [
    "CategoryMeanSal=df.groupby('Category').SalaryNormalized.agg(['mean','count'])"
   ]
  },
  {
   "cell_type": "code",
   "execution_count": 13,
   "id": "d8f33b30",
   "metadata": {},
   "outputs": [
    {
     "data": {
      "text/plain": [
       "<AxesSubplot:xlabel='count', ylabel='mean'>"
      ]
     },
     "execution_count": 13,
     "metadata": {},
     "output_type": "execute_result"
    },
    {
     "data": {
      "image/png": "[encoded data removed]",
      "text/plain": [
       "<Figure size 432x288 with 1 Axes>"
      ]
     },
     "metadata": {
      "needs_background": "light"
     },
     "output_type": "display_data"
    }
   ],
   "source": [
    "sns.scatterplot(x=CategoryMeanSal['count'], y=CategoryMeanSal['mean'])"
   ]
  },
  {
   "cell_type": "code",
   "execution_count": 130,
   "id": "4987c874",
   "metadata": {},
   "outputs": [],
   "source": [
    "sns.set(rc={'figure.figsize':(25,10)})"
   ]
  },
  {
   "cell_type": "code",
   "execution_count": 131,
   "id": "942a8de1",
   "metadata": {},
   "outputs": [
    {
     "data": {
      "text/plain": [
       "<AxesSubplot:xlabel='Category', ylabel='SalaryNormalized'>"
      ]
     },
     "execution_count": 131,
     "metadata": {},
     "output_type": "execute_result"
    },
    {
     "data": {
      "image/png": "[encoded data removed]",
      "text/plain": [
       "<Figure size 1800x720 with 1 Axes>"
      ]
     },
     "metadata": {},
     "output_type": "display_data"
    }
   ],
   "source": [
    "sns.boxplot(x='Category',y='SalaryNormalized',data=df,palette='rainbow')"
   ]
  },
  {
   "cell_type": "code",
   "execution_count": null,
   "id": "b20f9ee0",
   "metadata": {},
   "outputs": [],
   "source": [
    "#Location"
   ]
  },
  {
   "cell_type": "code",
   "execution_count": 16,
   "id": "cb087022",
   "metadata": {
    "scrolled": true
   },
   "outputs": [],
   "source": [
    "LocationMeanSal=df.groupby('LocationNormalized').SalaryNormalized.agg(['mean','count'])"
   ]
  },
  {
   "cell_type": "code",
   "execution_count": 17,
   "id": "44b5a8ad",
   "metadata": {
    "scrolled": true
   },
   "outputs": [
    {
     "data": {
      "text/plain": [
       "<AxesSubplot:xlabel='count', ylabel='mean'>"
      ]
     },
     "execution_count": 17,
     "metadata": {},
     "output_type": "execute_result"
    },
    {
     "data": {
      "image/png": "[encoded data removed]",
      "text/plain": [
       "<Figure size 432x288 with 1 Axes>"
      ]
     },
     "metadata": {
      "needs_background": "light"
     },
     "output_type": "display_data"
    }
   ],
   "source": [
    "sns.scatterplot(x=LocationMeanSal['count'], y=LocationMeanSal['mean'])"
   ]
  },
  {
   "cell_type": "markdown",
   "id": "c7a9d99c",
   "metadata": {},
   "source": [
    "# Preprocessing"
   ]
  },
  {
   "cell_type": "code",
   "execution_count": null,
   "id": "2c75401f",
   "metadata": {},
   "outputs": [],
   "source": [
    "#dropping unrelevant data, "
   ]
  },
  {
   "cell_type": "code",
   "execution_count": 339,
   "id": "64cfed59",
   "metadata": {},
   "outputs": [
    {
     "ename": "AttributeError",
     "evalue": "'Series' object has no attribute 'info'",
     "output_type": "error",
     "traceback": [
      "\u001b[1;31m---------------------------------------------------------------------------\u001b[0m",
      "\u001b[1;31mAttributeError\u001b[0m                            Traceback (most recent call last)",
      "\u001b[1;32m~\\AppData\\Local\\Temp/ipykernel_17704/2115657580.py\u001b[0m in \u001b[0;36m<module>\u001b[1;34m\u001b[0m\n\u001b[0;32m      1\u001b[0m \u001b[0mfull_df\u001b[0m\u001b[1;33m=\u001b[0m\u001b[0mdf\u001b[0m\u001b[1;33m.\u001b[0m\u001b[0mTitle\u001b[0m\u001b[1;33m.\u001b[0m\u001b[0mdropna\u001b[0m\u001b[1;33m(\u001b[0m\u001b[1;33m)\u001b[0m\u001b[1;33m\u001b[0m\u001b[1;33m\u001b[0m\u001b[0m\n\u001b[1;32m----> 2\u001b[1;33m \u001b[0mfull_df\u001b[0m\u001b[1;33m.\u001b[0m\u001b[0minfo\u001b[0m\u001b[1;33m(\u001b[0m\u001b[1;33m)\u001b[0m\u001b[1;33m\u001b[0m\u001b[1;33m\u001b[0m\u001b[0m\n\u001b[0m",
      "\u001b[1;32m~\\anaconda3\\lib\\site-packages\\pandas\\core\\generic.py\u001b[0m in \u001b[0;36m__getattr__\u001b[1;34m(self, name)\u001b[0m\n\u001b[0;32m   5485\u001b[0m         ):\n\u001b[0;32m   5486\u001b[0m             \u001b[1;32mreturn\u001b[0m \u001b[0mself\u001b[0m\u001b[1;33m[\u001b[0m\u001b[0mname\u001b[0m\u001b[1;33m]\u001b[0m\u001b[1;33m\u001b[0m\u001b[1;33m\u001b[0m\u001b[0m\n\u001b[1;32m-> 5487\u001b[1;33m         \u001b[1;32mreturn\u001b[0m \u001b[0mobject\u001b[0m\u001b[1;33m.\u001b[0m\u001b[0m__getattribute__\u001b[0m\u001b[1;33m(\u001b[0m\u001b[0mself\u001b[0m\u001b[1;33m,\u001b[0m \u001b[0mname\u001b[0m\u001b[1;33m)\u001b[0m\u001b[1;33m\u001b[0m\u001b[1;33m\u001b[0m\u001b[0m\n\u001b[0m\u001b[0;32m   5488\u001b[0m \u001b[1;33m\u001b[0m\u001b[0m\n\u001b[0;32m   5489\u001b[0m     \u001b[1;32mdef\u001b[0m \u001b[0m__setattr__\u001b[0m\u001b[1;33m(\u001b[0m\u001b[0mself\u001b[0m\u001b[1;33m,\u001b[0m \u001b[0mname\u001b[0m\u001b[1;33m:\u001b[0m \u001b[0mstr\u001b[0m\u001b[1;33m,\u001b[0m \u001b[0mvalue\u001b[0m\u001b[1;33m)\u001b[0m \u001b[1;33m->\u001b[0m \u001b[1;32mNone\u001b[0m\u001b[1;33m:\u001b[0m\u001b[1;33m\u001b[0m\u001b[1;33m\u001b[0m\u001b[0m\n",
      "\u001b[1;31mAttributeError\u001b[0m: 'Series' object has no attribute 'info'"
     ]
    }
   ],
   "source": [
    "full_df=df.Title.dropna()\n",
    "full_df.info()"
   ]
  },
  {
   "cell_type": "code",
   "execution_count": 342,
   "id": "598a6df0",
   "metadata": {
    "scrolled": true
   },
   "outputs": [
    {
     "data": {
      "text/html": [
       "<div>\n",
       "<style scoped>\n",
       "    .dataframe tbody tr th:only-of-type {\n",
       "        vertical-align: middle;\n",
       "    }\n",
       "\n",
       "    .dataframe tbody tr th {\n",
       "        vertical-align: top;\n",
       "    }\n",
       "\n",
       "    .dataframe thead th {\n",
       "        text-align: right;\n",
       "    }\n",
       "</style>\n",
       "<table border=\"1\" class=\"dataframe\">\n",
       "  <thead>\n",
       "    <tr style=\"text-align: right;\">\n",
       "      <th></th>\n",
       "      <th>Title</th>\n",
       "      <th>ContractType</th>\n",
       "      <th>ContractTime</th>\n",
       "      <th>Category</th>\n",
       "    </tr>\n",
       "  </thead>\n",
       "  <tbody>\n",
       "    <tr>\n",
       "      <th>0</th>\n",
       "      <td>Engineering Systems Analyst</td>\n",
       "      <td>NaN</td>\n",
       "      <td>permanent</td>\n",
       "      <td>Engineering Jobs</td>\n",
       "    </tr>\n",
       "    <tr>\n",
       "      <th>1</th>\n",
       "      <td>Stress Engineer Glasgow</td>\n",
       "      <td>NaN</td>\n",
       "      <td>permanent</td>\n",
       "      <td>Engineering Jobs</td>\n",
       "    </tr>\n",
       "    <tr>\n",
       "      <th>2</th>\n",
       "      <td>Modelling and simulation analyst</td>\n",
       "      <td>NaN</td>\n",
       "      <td>permanent</td>\n",
       "      <td>Engineering Jobs</td>\n",
       "    </tr>\n",
       "    <tr>\n",
       "      <th>3</th>\n",
       "      <td>Engineering Systems Analyst / Mathematical Mod...</td>\n",
       "      <td>NaN</td>\n",
       "      <td>permanent</td>\n",
       "      <td>Engineering Jobs</td>\n",
       "    </tr>\n",
       "    <tr>\n",
       "      <th>4</th>\n",
       "      <td>Pioneer, Miser Engineering Systems Analyst</td>\n",
       "      <td>NaN</td>\n",
       "      <td>permanent</td>\n",
       "      <td>Engineering Jobs</td>\n",
       "    </tr>\n",
       "  </tbody>\n",
       "</table>\n",
       "</div>"
      ],
      "text/plain": [
       "                                               Title ContractType  \\\n",
       "0                        Engineering Systems Analyst          NaN   \n",
       "1                            Stress Engineer Glasgow          NaN   \n",
       "2                   Modelling and simulation analyst          NaN   \n",
       "3  Engineering Systems Analyst / Mathematical Mod...          NaN   \n",
       "4         Pioneer, Miser Engineering Systems Analyst          NaN   \n",
       "\n",
       "  ContractTime          Category  \n",
       "0    permanent  Engineering Jobs  \n",
       "1    permanent  Engineering Jobs  \n",
       "2    permanent  Engineering Jobs  \n",
       "3    permanent  Engineering Jobs  \n",
       "4    permanent  Engineering Jobs  "
      ]
     },
     "execution_count": 342,
     "metadata": {},
     "output_type": "execute_result"
    }
   ],
   "source": [
    "full_df=df[df.Title.isnull()!=True]\n",
    "X=full_df.drop(['Id','FullDescription','LocationRaw','LocationNormalized','Company','SalaryRaw','SalaryNormalized','SourceName'],axis=1)\n",
    "y=full_df['SalaryNormalized']\n",
    "X.head()"
   ]
  },
  {
   "cell_type": "code",
   "execution_count": 343,
   "id": "b89f5f20",
   "metadata": {},
   "outputs": [
    {
     "name": "stdout",
     "output_type": "stream",
     "text": [
      "<class 'pandas.core.frame.DataFrame'>\n",
      "Int64Index: 244767 entries, 0 to 244767\n",
      "Data columns (total 4 columns):\n",
      " #   Column        Non-Null Count   Dtype \n",
      "---  ------        --------------   ----- \n",
      " 0   Title         244767 non-null  object\n",
      " 1   ContractType  65441 non-null   object\n",
      " 2   ContractTime  180863 non-null  object\n",
      " 3   Category      244767 non-null  object\n",
      "dtypes: object(4)\n",
      "memory usage: 9.3+ MB\n"
     ]
    }
   ],
   "source": [
    "X.info()"
   ]
  },
  {
   "cell_type": "code",
   "execution_count": null,
   "id": "dbf9bea5",
   "metadata": {},
   "outputs": [],
   "source": [
    "#Completing ContractType and ContractTime from FullDescription"
   ]
  },
  {
   "cell_type": "code",
   "execution_count": 107,
   "id": "6f5dc728",
   "metadata": {
    "scrolled": true
   },
   "outputs": [],
   "source": [
    "#desc=df[df[\"ContractType\"].isnull()].FullDescription\n",
    "#desc_part=([\"parttime\" in word.lower().split() for word in df.FullDescription])\n",
    "#desc_full=pd.DataFrame([\"fulltime\" in word.lower().split() for word in df.FullDescription])"
   ]
  },
  {
   "cell_type": "code",
   "execution_count": null,
   "id": "97b02770",
   "metadata": {},
   "outputs": [],
   "source": [
    "#Spliting tha data"
   ]
  },
  {
   "cell_type": "code",
   "execution_count": 344,
   "id": "edfa74ce",
   "metadata": {},
   "outputs": [],
   "source": [
    "from sklearn.model_selection import train_test_split\n",
    "X_train, X_valid, y_train, y_valid = train_test_split(X, y, train_size=0.8, test_size=0.2)"
   ]
  },
  {
   "cell_type": "code",
   "execution_count": 135,
   "id": "ef40d95e",
   "metadata": {},
   "outputs": [],
   "source": [
    "#OneHot encoding to categorial cols"
   ]
  },
  {
   "cell_type": "code",
   "execution_count": 136,
   "id": "b05dc1c5",
   "metadata": {},
   "outputs": [],
   "source": [
    "from sklearn.preprocessing import OneHotEncoder"
   ]
  },
  {
   "cell_type": "code",
   "execution_count": 358,
   "id": "d73c8ee3",
   "metadata": {},
   "outputs": [],
   "source": [
    "OH_cols=['ContractType','ContractTime','Category']\n",
    "OH_encoder = OneHotEncoder(handle_unknown='ignore', sparse=False)\n",
    "OH_cols_train = pd.DataFrame(OH_encoder.fit_transform(X_train[OH_cols]))\n",
    "OH_cols_valid = pd.DataFrame(OH_encoder.transform(X_valid[OH_cols]))"
   ]
  },
  {
   "cell_type": "code",
   "execution_count": 148,
   "id": "40dbafff",
   "metadata": {},
   "outputs": [],
   "source": [
    "#FullDescription preprocessing"
   ]
  },
  {
   "cell_type": "code",
   "execution_count": 238,
   "id": "c8dc274e",
   "metadata": {},
   "outputs": [],
   "source": [
    "import string\n",
    "import nltk\n",
    "#nltk.download() #Download the necessary datasets\n",
    "from nltk.corpus import stopwords\n",
    "from nltk.stem import PorterStemmer\n",
    "from nltk.tokenize import word_tokenize\n",
    "   \n",
    "ps = PorterStemmer()"
   ]
  },
  {
   "cell_type": "code",
   "execution_count": 247,
   "id": "2c0d6c0e",
   "metadata": {
    "scrolled": true
   },
   "outputs": [],
   "source": [
    "def text_process(mess):\n",
    "    \"\"\"\n",
    "    Takes in a string of text, then performs the following:\n",
    "    1. Remove all punctuation\n",
    "    2. Remove all stopwords\n",
    "    3. Returns a list of the cleaned text\n",
    "    \"\"\"\n",
    "    # Check characters to see if they are in punctuation\n",
    "    nopunc = [char for char in mess if char not in string.punctuation]\n",
    "\n",
    "    # Join the characters again to form the string.\n",
    "    nopunc = ''.join(nopunc)\n",
    "    \n",
    "    # Now just remove any stopwords\n",
    "    nostopwords = [word for word in nopunc.split() if word.lower() not in stopwords.words('english')]\n",
    "    \n",
    "    # Right now without Stemming\n",
    "    #ps = PorterStemmer()\n",
    "    #words = word_tokenize(''.join(nostopwords))\n",
    "    #stemmed = [ps.stem(w) for w in words]    \n",
    "    #answer = ' '.join(sorted(set(stemmed), key=stemmed.index))\n",
    "    \n",
    "    # Removing duplicate words\n",
    "    return nostopwords"
   ]
  },
  {
   "cell_type": "code",
   "execution_count": 327,
   "id": "51c62d65",
   "metadata": {},
   "outputs": [
    {
     "data": {
      "text/plain": [
       "'Engineering Systems Analyst'"
      ]
     },
     "execution_count": 327,
     "metadata": {},
     "output_type": "execute_result"
    }
   ],
   "source": [
    "X_train['Title'][0]"
   ]
  },
  {
   "cell_type": "code",
   "execution_count": 328,
   "id": "77732866",
   "metadata": {},
   "outputs": [
    {
     "data": {
      "text/plain": [
       "['Engineering', 'Systems', 'Analyst']"
      ]
     },
     "execution_count": 328,
     "metadata": {},
     "output_type": "execute_result"
    }
   ],
   "source": [
    "sentence=(text_process(X_train['Title'][0]))\n",
    "sentence"
   ]
  },
  {
   "cell_type": "code",
   "execution_count": null,
   "id": "f0e39999",
   "metadata": {},
   "outputs": [],
   "source": [
    "#TFIDF"
   ]
  },
  {
   "cell_type": "code",
   "execution_count": 329,
   "id": "2a3bcbcc",
   "metadata": {},
   "outputs": [],
   "source": [
    "from sklearn.feature_extraction.text import CountVectorizer"
   ]
  },
  {
   "cell_type": "code",
   "execution_count": 345,
   "id": "ead4737a",
   "metadata": {},
   "outputs": [],
   "source": [
    "def get_ngrams(text, ngram_from=2, ngram_to=2, n=None, max_features=20000):\n",
    "    \n",
    "    vec = CountVectorizer(ngram_range = (ngram_from, ngram_to), \n",
    "                          max_features = max_features, \n",
    "                          stop_words='english').fit(text)\n",
    "    bag_of_words = vec.transform(text)\n",
    "    sum_words = bag_of_words.sum(axis = 0) \n",
    "    words_freq = [(word, sum_words[0, i]) for word, i in vec.vocabulary_.items()]\n",
    "    words_freq = sorted(words_freq, key = lambda x: x[1], reverse = True)\n",
    "   \n",
    "    return words_freq[:n]"
   ]
  },
  {
   "cell_type": "code",
   "execution_count": 346,
   "id": "6e79a7d9",
   "metadata": {},
   "outputs": [
    {
     "data": {
      "text/html": [
       "<div>\n",
       "<style scoped>\n",
       "    .dataframe tbody tr th:only-of-type {\n",
       "        vertical-align: middle;\n",
       "    }\n",
       "\n",
       "    .dataframe tbody tr th {\n",
       "        vertical-align: top;\n",
       "    }\n",
       "\n",
       "    .dataframe thead th {\n",
       "        text-align: right;\n",
       "    }\n",
       "</style>\n",
       "<table border=\"1\" class=\"dataframe\">\n",
       "  <thead>\n",
       "    <tr style=\"text-align: right;\">\n",
       "      <th></th>\n",
       "      <th>Bigram</th>\n",
       "      <th>Frequency</th>\n",
       "    </tr>\n",
       "  </thead>\n",
       "  <tbody>\n",
       "    <tr>\n",
       "      <th>0</th>\n",
       "      <td>sales executive</td>\n",
       "      <td>4421</td>\n",
       "    </tr>\n",
       "    <tr>\n",
       "      <th>1</th>\n",
       "      <td>account manager</td>\n",
       "      <td>3444</td>\n",
       "    </tr>\n",
       "    <tr>\n",
       "      <th>2</th>\n",
       "      <td>project manager</td>\n",
       "      <td>3283</td>\n",
       "    </tr>\n",
       "    <tr>\n",
       "      <th>3</th>\n",
       "      <td>business development</td>\n",
       "      <td>3147</td>\n",
       "    </tr>\n",
       "    <tr>\n",
       "      <th>4</th>\n",
       "      <td>development manager</td>\n",
       "      <td>2594</td>\n",
       "    </tr>\n",
       "  </tbody>\n",
       "</table>\n",
       "</div>"
      ],
      "text/plain": [
       "                 Bigram  Frequency\n",
       "0       sales executive       4421\n",
       "1       account manager       3444\n",
       "2       project manager       3283\n",
       "3  business development       3147\n",
       "4   development manager       2594"
      ]
     },
     "execution_count": 346,
     "metadata": {},
     "output_type": "execute_result"
    }
   ],
   "source": [
    "bigrams = get_ngrams(X_train['Title'], ngram_from=2, ngram_to=2, n=15)\n",
    "bigrams_df = pd.DataFrame(bigrams)\n",
    "bigrams_df.columns=[\"Bigram\", \"Frequency\"]\n",
    "bigrams_df.head()"
   ]
  },
  {
   "cell_type": "code",
   "execution_count": 347,
   "id": "b57fe7b1",
   "metadata": {},
   "outputs": [
    {
     "name": "stdout",
     "output_type": "stream",
     "text": [
      "140220\n"
     ]
    }
   ],
   "source": [
    "bow_transformer = CountVectorizer(ngram_range=(1,2),stop_words='english').fit(X_train['Title'])\n",
    "\n",
    "# Print total number of vocab words\n",
    "print(len(bow_transformer.vocabulary_))"
   ]
  },
  {
   "cell_type": "code",
   "execution_count": 348,
   "id": "1507372b",
   "metadata": {},
   "outputs": [],
   "source": [
    "Titles_bow = bow_transformer.transform(X_train['Title'])"
   ]
  },
  {
   "cell_type": "code",
   "execution_count": 312,
   "id": "33f80c20",
   "metadata": {},
   "outputs": [
    {
     "name": "stdout",
     "output_type": "stream",
     "text": [
      "Shape of Sparse Matrix:  (195814, 140380)\n",
      "Amount of Non-Zero occurences:  1283922\n"
     ]
    }
   ],
   "source": [
    "print('Shape of Sparse Matrix: ', Titles_bow.shape)\n",
    "print('Amount of Non-Zero occurences: ', Titles_bow.nnz)"
   ]
  },
  {
   "cell_type": "code",
   "execution_count": 349,
   "id": "acd0e9cc",
   "metadata": {},
   "outputs": [],
   "source": [
    "from sklearn.feature_extraction.text import TfidfTransformer\n",
    "tfidf_transformer = TfidfTransformer().fit(Titles_bow)"
   ]
  },
  {
   "cell_type": "code",
   "execution_count": 350,
   "id": "a2f400ae",
   "metadata": {},
   "outputs": [
    {
     "name": "stdout",
     "output_type": "stream",
     "text": [
      "  (0, 124920)\t0.2908723440411215\n",
      "  (0, 124904)\t0.20009316884572226\n",
      "  (0, 82635)\t0.3081960156708689\n",
      "  (0, 79693)\t0.4008065090054216\n",
      "  (0, 79691)\t0.3945993885965345\n",
      "  (0, 43821)\t0.417600627459668\n",
      "  (0, 43622)\t0.22086742002555967\n",
      "  (0, 6507)\t0.4641487295604016\n",
      "  (0, 6037)\t0.15940495475373412\n"
     ]
    }
   ],
   "source": [
    "Title4=X_train['Title'][3]\n",
    "bow4 = bow_transformer.transform([Title4])\n",
    "tfidf4 = tfidf_transformer.transform(bow4)\n",
    "print(tfidf4)"
   ]
  },
  {
   "cell_type": "code",
   "execution_count": 351,
   "id": "d75657e3",
   "metadata": {},
   "outputs": [
    {
     "name": "stdout",
     "output_type": "stream",
     "text": [
      "(195813, 140220)\n"
     ]
    }
   ],
   "source": [
    "Titles_train_tfidf = tfidf_transformer.transform(Titles_bow)\n",
    "print(Titles_train_tfidf.shape)"
   ]
  },
  {
   "cell_type": "code",
   "execution_count": null,
   "id": "ee90f7f6",
   "metadata": {},
   "outputs": [],
   "source": [
    "#processing the validation data the same way"
   ]
  },
  {
   "cell_type": "code",
   "execution_count": 355,
   "id": "1fe0d680",
   "metadata": {},
   "outputs": [
    {
     "name": "stdout",
     "output_type": "stream",
     "text": [
      "(48954, 140220)\n"
     ]
    }
   ],
   "source": [
    "valid_bow_transformer = CountVectorizer(ngram_range=(1,2),stop_words='english').fit(X_valid['Title'])\n",
    "Titles_valid_bow = bow_transformer.transform(X_valid['Title'])\n",
    "Titles_valid_tfidf = tfidf_transformer.transform(Titles_valid_bow)\n",
    "print(Titles_valid_tfidf.shape)"
   ]
  },
  {
   "cell_type": "code",
   "execution_count": 306,
   "id": "d1e4e18b",
   "metadata": {},
   "outputs": [],
   "source": [
    "#Joining all the processed Data"
   ]
  },
  {
   "cell_type": "code",
   "execution_count": 360,
   "id": "bc9b1b15",
   "metadata": {},
   "outputs": [
    {
     "name": "stdout",
     "output_type": "stream",
     "text": [
      "(195813, 35)\n",
      "(48954, 35)\n"
     ]
    }
   ],
   "source": [
    "print(OH_cols_train.shape)\n",
    "print(OH_cols_valid.shape)"
   ]
  },
  {
   "cell_type": "code",
   "execution_count": 364,
   "id": "2e4fe32b",
   "metadata": {},
   "outputs": [
    {
     "data": {
      "text/plain": [
       "scipy.sparse.csr.csr_matrix"
      ]
     },
     "execution_count": 364,
     "metadata": {},
     "output_type": "execute_result"
    }
   ],
   "source": [
    "type(Titles_valid_tfidf)"
   ]
  },
  {
   "cell_type": "code",
   "execution_count": 363,
   "id": "bdcef62f",
   "metadata": {},
   "outputs": [
    {
     "data": {
      "text/html": [
       "<div>\n",
       "<style scoped>\n",
       "    .dataframe tbody tr th:only-of-type {\n",
       "        vertical-align: middle;\n",
       "    }\n",
       "\n",
       "    .dataframe tbody tr th {\n",
       "        vertical-align: top;\n",
       "    }\n",
       "\n",
       "    .dataframe thead th {\n",
       "        text-align: right;\n",
       "    }\n",
       "</style>\n",
       "<table border=\"1\" class=\"dataframe\">\n",
       "  <thead>\n",
       "    <tr style=\"text-align: right;\">\n",
       "      <th></th>\n",
       "      <th>0</th>\n",
       "    </tr>\n",
       "  </thead>\n",
       "  <tbody>\n",
       "    <tr>\n",
       "      <th>0</th>\n",
       "      <td>(0, 114009)\\t0.5992064873344695\\n  (0, 11366...</td>\n",
       "    </tr>\n",
       "    <tr>\n",
       "      <th>1</th>\n",
       "      <td>(0, 131906)\\t0.6656662634665308\\n  (0, 42089...</td>\n",
       "    </tr>\n",
       "    <tr>\n",
       "      <th>2</th>\n",
       "      <td>(0, 125551)\\t0.36699953783442313\\n  (0, 5361...</td>\n",
       "    </tr>\n",
       "    <tr>\n",
       "      <th>3</th>\n",
       "      <td>(0, 127458)\\t0.43077949690134293\\n  (0, 2526...</td>\n",
       "    </tr>\n",
       "    <tr>\n",
       "      <th>4</th>\n",
       "      <td>(0, 107124)\\t0.46441946983885546\\n  (0, 1071...</td>\n",
       "    </tr>\n",
       "    <tr>\n",
       "      <th>5</th>\n",
       "      <td>(0, 126347)\\t0.3164268233487207\\n  (0, 12625...</td>\n",
       "    </tr>\n",
       "    <tr>\n",
       "      <th>6</th>\n",
       "      <td>(0, 88224)\\t0.3372084656820993\\n  (0, 88206)...</td>\n",
       "    </tr>\n",
       "    <tr>\n",
       "      <th>7</th>\n",
       "      <td>(0, 99991)\\t0.7559738951272521\\n  (0, 99919)...</td>\n",
       "    </tr>\n",
       "    <tr>\n",
       "      <th>8</th>\n",
       "      <td>(0, 127309)\\t0.3080185950950038\\n  (0, 12724...</td>\n",
       "    </tr>\n",
       "    <tr>\n",
       "      <th>9</th>\n",
       "      <td>(0, 101042)\\t0.3361100915603042\\n  (0, 70893...</td>\n",
       "    </tr>\n",
       "    <tr>\n",
       "      <th>10</th>\n",
       "      <td>(0, 120772)\\t0.2231537411014397\\n  (0, 12073...</td>\n",
       "    </tr>\n",
       "    <tr>\n",
       "      <th>11</th>\n",
       "      <td>(0, 101611)\\t0.6236660194195098\\n  (0, 24006...</td>\n",
       "    </tr>\n",
       "    <tr>\n",
       "      <th>12</th>\n",
       "      <td>(0, 99863)\\t0.6487361563644789\\n  (0, 99782)...</td>\n",
       "    </tr>\n",
       "    <tr>\n",
       "      <th>13</th>\n",
       "      <td>(0, 100653)\\t0.4357606896016459\\n  (0, 77139...</td>\n",
       "    </tr>\n",
       "    <tr>\n",
       "      <th>14</th>\n",
       "      <td>(0, 113677)\\t0.4735300708330306\\n  (0, 11366...</td>\n",
       "    </tr>\n",
       "    <tr>\n",
       "      <th>15</th>\n",
       "      <td>(0, 138418)\\t0.684572501448454\\n  (0, 138251...</td>\n",
       "    </tr>\n",
       "    <tr>\n",
       "      <th>16</th>\n",
       "      <td>(0, 113266)\\t0.7709796971671198\\n  (0, 11323...</td>\n",
       "    </tr>\n",
       "    <tr>\n",
       "      <th>17</th>\n",
       "      <td>(0, 128101)\\t0.42174301309004597\\n  (0, 1089...</td>\n",
       "    </tr>\n",
       "    <tr>\n",
       "      <th>18</th>\n",
       "      <td>(0, 117127)\\t0.7215566774130243\\n  (0, 11704...</td>\n",
       "    </tr>\n",
       "    <tr>\n",
       "      <th>19</th>\n",
       "      <td>(0, 110461)\\t0.39335898683265036\\n  (0, 4938...</td>\n",
       "    </tr>\n",
       "  </tbody>\n",
       "</table>\n",
       "</div>"
      ],
      "text/plain": [
       "                                                    0\n",
       "0     (0, 114009)\\t0.5992064873344695\\n  (0, 11366...\n",
       "1     (0, 131906)\\t0.6656662634665308\\n  (0, 42089...\n",
       "2     (0, 125551)\\t0.36699953783442313\\n  (0, 5361...\n",
       "3     (0, 127458)\\t0.43077949690134293\\n  (0, 2526...\n",
       "4     (0, 107124)\\t0.46441946983885546\\n  (0, 1071...\n",
       "5     (0, 126347)\\t0.3164268233487207\\n  (0, 12625...\n",
       "6     (0, 88224)\\t0.3372084656820993\\n  (0, 88206)...\n",
       "7     (0, 99991)\\t0.7559738951272521\\n  (0, 99919)...\n",
       "8     (0, 127309)\\t0.3080185950950038\\n  (0, 12724...\n",
       "9     (0, 101042)\\t0.3361100915603042\\n  (0, 70893...\n",
       "10    (0, 120772)\\t0.2231537411014397\\n  (0, 12073...\n",
       "11    (0, 101611)\\t0.6236660194195098\\n  (0, 24006...\n",
       "12    (0, 99863)\\t0.6487361563644789\\n  (0, 99782)...\n",
       "13    (0, 100653)\\t0.4357606896016459\\n  (0, 77139...\n",
       "14    (0, 113677)\\t0.4735300708330306\\n  (0, 11366...\n",
       "15    (0, 138418)\\t0.684572501448454\\n  (0, 138251...\n",
       "16    (0, 113266)\\t0.7709796971671198\\n  (0, 11323...\n",
       "17    (0, 128101)\\t0.42174301309004597\\n  (0, 1089...\n",
       "18    (0, 117127)\\t0.7215566774130243\\n  (0, 11704...\n",
       "19    (0, 110461)\\t0.39335898683265036\\n  (0, 4938..."
      ]
     },
     "execution_count": 363,
     "metadata": {},
     "output_type": "execute_result"
    }
   ],
   "source": [
    "Titles_valid_tfidf_DF=pd.DataFrame(Titles_valid_tfidf)\n",
    "Titles_valid_tfidf_DF.head(20)"
   ]
  },
  {
   "cell_type": "markdown",
   "id": "831a758d",
   "metadata": {},
   "source": [
    "# Modeling"
   ]
  },
  {
   "cell_type": "code",
   "execution_count": null,
   "id": "588ff5ec",
   "metadata": {},
   "outputs": [],
   "source": [
    "from xgboost import XGBRegressor\n",
    "\n",
    "my_model = XGBRegressor()\n",
    "my_model.fit(X_train, y_train)"
   ]
  },
  {
   "cell_type": "code",
   "execution_count": 221,
   "id": "16e280e7",
   "metadata": {},
   "outputs": [
    {
     "name": "stdout",
     "output_type": "stream",
     "text": [
      "Engineering Systems Analyst / Mathematical Modeller. Our client is a highly successful and respected Consultancy providing specialist software development MISER, PIONEER, Maths, Mathematical, Optimisation, Risk Analysis, Asset Management, Water Industry, Access, Excel, VBA, SQL, Systems . Engineering Systems Analyst / Mathematical Modeller. Salary  ****K****K negotiable Location Dorking, Surrey\n"
     ]
    }
   ],
   "source": [
    "#Building a pipline\n",
    "from sklearn.pipeline import Pipeline\n",
    "\n",
    "pipeline = Pipeline([\n",
    "    ('bow', CountVectorizer(analyzer=text_process)),  # strings to token integer counts\n",
    "    ('tfidf', TfidfTransformer()),  # integer counts to weighted TF-IDF scores\n",
    "    ('classifier', MultinomialNB()),  # train on TF-IDF vectors w/ Naive Bayes classifier\n",
    "])"
   ]
  },
  {
   "cell_type": "code",
   "execution_count": 222,
   "id": "ef9b30f5",
   "metadata": {},
   "outputs": [
    {
     "name": "stdout",
     "output_type": "stream",
     "text": [
      "  (0, 0)\t33\n",
      "  (0, 11)\t18\n",
      "  (0, 12)\t1\n",
      "  (0, 13)\t10\n",
      "  (0, 14)\t5\n",
      "  (0, 15)\t21\n",
      "  (0, 16)\t1\n",
      "  (0, 17)\t4\n",
      "  (0, 18)\t4\n",
      "  (0, 19)\t17\n",
      "  (0, 21)\t4\n",
      "  (0, 22)\t12\n",
      "  (0, 23)\t8\n",
      "  (0, 24)\t10\n",
      "  (0, 25)\t10\n",
      "  (0, 26)\t6\n",
      "  (0, 27)\t1\n",
      "  (0, 28)\t12\n",
      "  (0, 29)\t23\n",
      "  (0, 30)\t16\n",
      "  (0, 31)\t4\n",
      "  (0, 32)\t3\n",
      "  (0, 33)\t2\n",
      "  (0, 34)\t1\n",
      "  (0, 35)\t4\n",
      "(1, 48)\n"
     ]
    }
   ],
   "source": []
  }
 ],
 "metadata": {
  "kernelspec": {
   "display_name": "Python 3 (ipykernel)",
   "language": "python",
   "name": "python3"
  },
  "language_info": {
   "codemirror_mode": {
    "name": "ipython",
    "version": 3
   },
   "file_extension": ".py",
   "mimetype": "text/x-python",
   "name": "python",
   "nbconvert_exporter": "python",
   "pygments_lexer": "ipython3",
   "version": "3.9.7"
  }
 },
 "nbformat": 4,
 "nbformat_minor": 5
}
